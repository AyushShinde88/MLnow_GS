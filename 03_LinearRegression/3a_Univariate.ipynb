{
  "nbformat": 4,
  "nbformat_minor": 0,
  "metadata": {
    "colab": {
      "name": "3.1_Univariate.ipynb",
      "provenance": [],
      "include_colab_link": true
    },
    "kernelspec": {
      "name": "python3",
      "display_name": "Python 3"
    }
  },
  "cells": [
    {
      "cell_type": "markdown",
      "metadata": {
        "id": "view-in-github",
        "colab_type": "text"
      },
      "source": [
        "<a href=\"https://colab.research.google.com/github/AyushShinde88/MLnow_GS/blob/main/03_LinearRegression/3a_Univariate.ipynb\" target=\"_parent\"><img src=\"https://colab.research.google.com/assets/colab-badge.svg\" alt=\"Open In Colab\"/></a>"
      ]
    },
    {
      "cell_type": "markdown",
      "metadata": {
        "id": "q_569ugy6lyY"
      },
      "source": [
        "> This notebook was created for code illustration of the `ML.now()` course\n",
        "\n",
        "\n",
        "`Univariate Linear Regression`\n",
        "\n",
        "[Link to Download the dataset](https://archive.ics.uci.edu/ml/datasets/Student+Performance)\n",
        "\n",
        "**Date Created**: June 6, 2021\n",
        "\n",
        "\n",
        "**Author**:\n",
        " Ayush Shinde\n",
        "\n",
        "**Reach out**:\n",
        " | [GitHub](https://github.com/AyushShinde88) | \n",
        "\n"
      ]
    },
    {
      "cell_type": "markdown",
      "metadata": {
        "id": "KmW9S6zjaauQ"
      },
      "source": [
        "## Setup"
      ]
    },
    {
      "cell_type": "code",
      "metadata": {
        "colab": {
          "base_uri": "https://localhost:8080/"
        },
        "id": "oX_QibhWsnnX",
        "outputId": "5ddd7161-c50d-4f1e-cc66-bdda69fb7948"
      },
      "source": [
        "from google.colab import drive\n",
        "drive.mount('/content/drive')"
      ],
      "execution_count": 5,
      "outputs": [
        {
          "output_type": "stream",
          "text": [
            "Drive already mounted at /content/drive; to attempt to forcibly remount, call drive.mount(\"/content/drive\", force_remount=True).\n"
          ],
          "name": "stdout"
        }
      ]
    },
    {
      "cell_type": "code",
      "metadata": {
        "colab": {
          "base_uri": "https://localhost:8080/"
        },
        "id": "wYuNn17Isvml",
        "outputId": "39f273ca-97fc-4858-a32a-6ee9d9ca098f"
      },
      "source": [
        "cd '/content/drive/MyDrive/ML.now()/LiveCodeSessions/02_EDA/student'"
      ],
      "execution_count": 6,
      "outputs": [
        {
          "output_type": "stream",
          "text": [
            "/content/drive/MyDrive/ML.now()/LiveCodeSessions/02_EDA/student\n"
          ],
          "name": "stdout"
        }
      ]
    },
    {
      "cell_type": "code",
      "metadata": {
        "colab": {
          "base_uri": "https://localhost:8080/"
        },
        "id": "oR69jwALs-uP",
        "outputId": "16b1c7dd-71c2-43a2-b983-c66854d6f77a"
      },
      "source": [
        "ls"
      ],
      "execution_count": 7,
      "outputs": [
        {
          "output_type": "stream",
          "text": [
            "cleanedMathData.csv  student-mat.gsheet  student-por.csv\n",
            "student-mat.csv      student-merge.R     student.txt\n"
          ],
          "name": "stdout"
        }
      ]
    },
    {
      "cell_type": "code",
      "metadata": {
        "id": "0rYwvbeMtPJg"
      },
      "source": [
        "import os"
      ],
      "execution_count": 8,
      "outputs": []
    },
    {
      "cell_type": "code",
      "metadata": {
        "id": "cnGQRbmes_tZ"
      },
      "source": [
        "import pandas as pd #working with csv or excel files\n",
        "import numpy as np #working with numbers/ arrays/ tensors\n",
        "import tensorflow as tf #framework\n",
        "from tensorflow import keras #API / library \n",
        "import os #using os commands between the python language"
      ],
      "execution_count": 9,
      "outputs": []
    },
    {
      "cell_type": "code",
      "metadata": {
        "id": "VV-Ps6dJtX6B"
      },
      "source": [
        "mathData = pd.read_csv('student-mat.csv', sep=';') #load the csv file as dataframe"
      ],
      "execution_count": 10,
      "outputs": []
    },
    {
      "cell_type": "code",
      "metadata": {
        "colab": {
          "base_uri": "https://localhost:8080/",
          "height": 378
        },
        "id": "2_KId_bptr05",
        "outputId": "46aba7fc-071b-49ac-e543-7c4fb96a2f00"
      },
      "source": [
        "mathData.head(10) #print the first ten rows of the dataframe"
      ],
      "execution_count": 11,
      "outputs": [
        {
          "output_type": "execute_result",
          "data": {
            "text/html": [
              "<div>\n",
              "<style scoped>\n",
              "    .dataframe tbody tr th:only-of-type {\n",
              "        vertical-align: middle;\n",
              "    }\n",
              "\n",
              "    .dataframe tbody tr th {\n",
              "        vertical-align: top;\n",
              "    }\n",
              "\n",
              "    .dataframe thead th {\n",
              "        text-align: right;\n",
              "    }\n",
              "</style>\n",
              "<table border=\"1\" class=\"dataframe\">\n",
              "  <thead>\n",
              "    <tr style=\"text-align: right;\">\n",
              "      <th></th>\n",
              "      <th>school</th>\n",
              "      <th>sex</th>\n",
              "      <th>age</th>\n",
              "      <th>address</th>\n",
              "      <th>famsize</th>\n",
              "      <th>Pstatus</th>\n",
              "      <th>Medu</th>\n",
              "      <th>Fedu</th>\n",
              "      <th>Mjob</th>\n",
              "      <th>Fjob</th>\n",
              "      <th>reason</th>\n",
              "      <th>guardian</th>\n",
              "      <th>traveltime</th>\n",
              "      <th>studytime</th>\n",
              "      <th>failures</th>\n",
              "      <th>schoolsup</th>\n",
              "      <th>famsup</th>\n",
              "      <th>paid</th>\n",
              "      <th>activities</th>\n",
              "      <th>nursery</th>\n",
              "      <th>higher</th>\n",
              "      <th>internet</th>\n",
              "      <th>romantic</th>\n",
              "      <th>famrel</th>\n",
              "      <th>freetime</th>\n",
              "      <th>goout</th>\n",
              "      <th>Dalc</th>\n",
              "      <th>Walc</th>\n",
              "      <th>health</th>\n",
              "      <th>absences</th>\n",
              "      <th>G1</th>\n",
              "      <th>G2</th>\n",
              "      <th>G3</th>\n",
              "    </tr>\n",
              "  </thead>\n",
              "  <tbody>\n",
              "    <tr>\n",
              "      <th>0</th>\n",
              "      <td>GP</td>\n",
              "      <td>F</td>\n",
              "      <td>18</td>\n",
              "      <td>U</td>\n",
              "      <td>GT3</td>\n",
              "      <td>A</td>\n",
              "      <td>4</td>\n",
              "      <td>4</td>\n",
              "      <td>at_home</td>\n",
              "      <td>teacher</td>\n",
              "      <td>course</td>\n",
              "      <td>mother</td>\n",
              "      <td>2</td>\n",
              "      <td>2</td>\n",
              "      <td>0</td>\n",
              "      <td>yes</td>\n",
              "      <td>no</td>\n",
              "      <td>no</td>\n",
              "      <td>no</td>\n",
              "      <td>yes</td>\n",
              "      <td>yes</td>\n",
              "      <td>no</td>\n",
              "      <td>no</td>\n",
              "      <td>4</td>\n",
              "      <td>3</td>\n",
              "      <td>4</td>\n",
              "      <td>1</td>\n",
              "      <td>1</td>\n",
              "      <td>3</td>\n",
              "      <td>6</td>\n",
              "      <td>5</td>\n",
              "      <td>6</td>\n",
              "      <td>6</td>\n",
              "    </tr>\n",
              "    <tr>\n",
              "      <th>1</th>\n",
              "      <td>GP</td>\n",
              "      <td>F</td>\n",
              "      <td>17</td>\n",
              "      <td>U</td>\n",
              "      <td>GT3</td>\n",
              "      <td>T</td>\n",
              "      <td>1</td>\n",
              "      <td>1</td>\n",
              "      <td>at_home</td>\n",
              "      <td>other</td>\n",
              "      <td>course</td>\n",
              "      <td>father</td>\n",
              "      <td>1</td>\n",
              "      <td>2</td>\n",
              "      <td>0</td>\n",
              "      <td>no</td>\n",
              "      <td>yes</td>\n",
              "      <td>no</td>\n",
              "      <td>no</td>\n",
              "      <td>no</td>\n",
              "      <td>yes</td>\n",
              "      <td>yes</td>\n",
              "      <td>no</td>\n",
              "      <td>5</td>\n",
              "      <td>3</td>\n",
              "      <td>3</td>\n",
              "      <td>1</td>\n",
              "      <td>1</td>\n",
              "      <td>3</td>\n",
              "      <td>4</td>\n",
              "      <td>5</td>\n",
              "      <td>5</td>\n",
              "      <td>6</td>\n",
              "    </tr>\n",
              "    <tr>\n",
              "      <th>2</th>\n",
              "      <td>GP</td>\n",
              "      <td>F</td>\n",
              "      <td>15</td>\n",
              "      <td>U</td>\n",
              "      <td>LE3</td>\n",
              "      <td>T</td>\n",
              "      <td>1</td>\n",
              "      <td>1</td>\n",
              "      <td>at_home</td>\n",
              "      <td>other</td>\n",
              "      <td>other</td>\n",
              "      <td>mother</td>\n",
              "      <td>1</td>\n",
              "      <td>2</td>\n",
              "      <td>3</td>\n",
              "      <td>yes</td>\n",
              "      <td>no</td>\n",
              "      <td>yes</td>\n",
              "      <td>no</td>\n",
              "      <td>yes</td>\n",
              "      <td>yes</td>\n",
              "      <td>yes</td>\n",
              "      <td>no</td>\n",
              "      <td>4</td>\n",
              "      <td>3</td>\n",
              "      <td>2</td>\n",
              "      <td>2</td>\n",
              "      <td>3</td>\n",
              "      <td>3</td>\n",
              "      <td>10</td>\n",
              "      <td>7</td>\n",
              "      <td>8</td>\n",
              "      <td>10</td>\n",
              "    </tr>\n",
              "    <tr>\n",
              "      <th>3</th>\n",
              "      <td>GP</td>\n",
              "      <td>F</td>\n",
              "      <td>15</td>\n",
              "      <td>U</td>\n",
              "      <td>GT3</td>\n",
              "      <td>T</td>\n",
              "      <td>4</td>\n",
              "      <td>2</td>\n",
              "      <td>health</td>\n",
              "      <td>services</td>\n",
              "      <td>home</td>\n",
              "      <td>mother</td>\n",
              "      <td>1</td>\n",
              "      <td>3</td>\n",
              "      <td>0</td>\n",
              "      <td>no</td>\n",
              "      <td>yes</td>\n",
              "      <td>yes</td>\n",
              "      <td>yes</td>\n",
              "      <td>yes</td>\n",
              "      <td>yes</td>\n",
              "      <td>yes</td>\n",
              "      <td>yes</td>\n",
              "      <td>3</td>\n",
              "      <td>2</td>\n",
              "      <td>2</td>\n",
              "      <td>1</td>\n",
              "      <td>1</td>\n",
              "      <td>5</td>\n",
              "      <td>2</td>\n",
              "      <td>15</td>\n",
              "      <td>14</td>\n",
              "      <td>15</td>\n",
              "    </tr>\n",
              "    <tr>\n",
              "      <th>4</th>\n",
              "      <td>GP</td>\n",
              "      <td>F</td>\n",
              "      <td>16</td>\n",
              "      <td>U</td>\n",
              "      <td>GT3</td>\n",
              "      <td>T</td>\n",
              "      <td>3</td>\n",
              "      <td>3</td>\n",
              "      <td>other</td>\n",
              "      <td>other</td>\n",
              "      <td>home</td>\n",
              "      <td>father</td>\n",
              "      <td>1</td>\n",
              "      <td>2</td>\n",
              "      <td>0</td>\n",
              "      <td>no</td>\n",
              "      <td>yes</td>\n",
              "      <td>yes</td>\n",
              "      <td>no</td>\n",
              "      <td>yes</td>\n",
              "      <td>yes</td>\n",
              "      <td>no</td>\n",
              "      <td>no</td>\n",
              "      <td>4</td>\n",
              "      <td>3</td>\n",
              "      <td>2</td>\n",
              "      <td>1</td>\n",
              "      <td>2</td>\n",
              "      <td>5</td>\n",
              "      <td>4</td>\n",
              "      <td>6</td>\n",
              "      <td>10</td>\n",
              "      <td>10</td>\n",
              "    </tr>\n",
              "    <tr>\n",
              "      <th>5</th>\n",
              "      <td>GP</td>\n",
              "      <td>M</td>\n",
              "      <td>16</td>\n",
              "      <td>U</td>\n",
              "      <td>LE3</td>\n",
              "      <td>T</td>\n",
              "      <td>4</td>\n",
              "      <td>3</td>\n",
              "      <td>services</td>\n",
              "      <td>other</td>\n",
              "      <td>reputation</td>\n",
              "      <td>mother</td>\n",
              "      <td>1</td>\n",
              "      <td>2</td>\n",
              "      <td>0</td>\n",
              "      <td>no</td>\n",
              "      <td>yes</td>\n",
              "      <td>yes</td>\n",
              "      <td>yes</td>\n",
              "      <td>yes</td>\n",
              "      <td>yes</td>\n",
              "      <td>yes</td>\n",
              "      <td>no</td>\n",
              "      <td>5</td>\n",
              "      <td>4</td>\n",
              "      <td>2</td>\n",
              "      <td>1</td>\n",
              "      <td>2</td>\n",
              "      <td>5</td>\n",
              "      <td>10</td>\n",
              "      <td>15</td>\n",
              "      <td>15</td>\n",
              "      <td>15</td>\n",
              "    </tr>\n",
              "    <tr>\n",
              "      <th>6</th>\n",
              "      <td>GP</td>\n",
              "      <td>M</td>\n",
              "      <td>16</td>\n",
              "      <td>U</td>\n",
              "      <td>LE3</td>\n",
              "      <td>T</td>\n",
              "      <td>2</td>\n",
              "      <td>2</td>\n",
              "      <td>other</td>\n",
              "      <td>other</td>\n",
              "      <td>home</td>\n",
              "      <td>mother</td>\n",
              "      <td>1</td>\n",
              "      <td>2</td>\n",
              "      <td>0</td>\n",
              "      <td>no</td>\n",
              "      <td>no</td>\n",
              "      <td>no</td>\n",
              "      <td>no</td>\n",
              "      <td>yes</td>\n",
              "      <td>yes</td>\n",
              "      <td>yes</td>\n",
              "      <td>no</td>\n",
              "      <td>4</td>\n",
              "      <td>4</td>\n",
              "      <td>4</td>\n",
              "      <td>1</td>\n",
              "      <td>1</td>\n",
              "      <td>3</td>\n",
              "      <td>0</td>\n",
              "      <td>12</td>\n",
              "      <td>12</td>\n",
              "      <td>11</td>\n",
              "    </tr>\n",
              "    <tr>\n",
              "      <th>7</th>\n",
              "      <td>GP</td>\n",
              "      <td>F</td>\n",
              "      <td>17</td>\n",
              "      <td>U</td>\n",
              "      <td>GT3</td>\n",
              "      <td>A</td>\n",
              "      <td>4</td>\n",
              "      <td>4</td>\n",
              "      <td>other</td>\n",
              "      <td>teacher</td>\n",
              "      <td>home</td>\n",
              "      <td>mother</td>\n",
              "      <td>2</td>\n",
              "      <td>2</td>\n",
              "      <td>0</td>\n",
              "      <td>yes</td>\n",
              "      <td>yes</td>\n",
              "      <td>no</td>\n",
              "      <td>no</td>\n",
              "      <td>yes</td>\n",
              "      <td>yes</td>\n",
              "      <td>no</td>\n",
              "      <td>no</td>\n",
              "      <td>4</td>\n",
              "      <td>1</td>\n",
              "      <td>4</td>\n",
              "      <td>1</td>\n",
              "      <td>1</td>\n",
              "      <td>1</td>\n",
              "      <td>6</td>\n",
              "      <td>6</td>\n",
              "      <td>5</td>\n",
              "      <td>6</td>\n",
              "    </tr>\n",
              "    <tr>\n",
              "      <th>8</th>\n",
              "      <td>GP</td>\n",
              "      <td>M</td>\n",
              "      <td>15</td>\n",
              "      <td>U</td>\n",
              "      <td>LE3</td>\n",
              "      <td>A</td>\n",
              "      <td>3</td>\n",
              "      <td>2</td>\n",
              "      <td>services</td>\n",
              "      <td>other</td>\n",
              "      <td>home</td>\n",
              "      <td>mother</td>\n",
              "      <td>1</td>\n",
              "      <td>2</td>\n",
              "      <td>0</td>\n",
              "      <td>no</td>\n",
              "      <td>yes</td>\n",
              "      <td>yes</td>\n",
              "      <td>no</td>\n",
              "      <td>yes</td>\n",
              "      <td>yes</td>\n",
              "      <td>yes</td>\n",
              "      <td>no</td>\n",
              "      <td>4</td>\n",
              "      <td>2</td>\n",
              "      <td>2</td>\n",
              "      <td>1</td>\n",
              "      <td>1</td>\n",
              "      <td>1</td>\n",
              "      <td>0</td>\n",
              "      <td>16</td>\n",
              "      <td>18</td>\n",
              "      <td>19</td>\n",
              "    </tr>\n",
              "    <tr>\n",
              "      <th>9</th>\n",
              "      <td>GP</td>\n",
              "      <td>M</td>\n",
              "      <td>15</td>\n",
              "      <td>U</td>\n",
              "      <td>GT3</td>\n",
              "      <td>T</td>\n",
              "      <td>3</td>\n",
              "      <td>4</td>\n",
              "      <td>other</td>\n",
              "      <td>other</td>\n",
              "      <td>home</td>\n",
              "      <td>mother</td>\n",
              "      <td>1</td>\n",
              "      <td>2</td>\n",
              "      <td>0</td>\n",
              "      <td>no</td>\n",
              "      <td>yes</td>\n",
              "      <td>yes</td>\n",
              "      <td>yes</td>\n",
              "      <td>yes</td>\n",
              "      <td>yes</td>\n",
              "      <td>yes</td>\n",
              "      <td>no</td>\n",
              "      <td>5</td>\n",
              "      <td>5</td>\n",
              "      <td>1</td>\n",
              "      <td>1</td>\n",
              "      <td>1</td>\n",
              "      <td>5</td>\n",
              "      <td>0</td>\n",
              "      <td>14</td>\n",
              "      <td>15</td>\n",
              "      <td>15</td>\n",
              "    </tr>\n",
              "  </tbody>\n",
              "</table>\n",
              "</div>"
            ],
            "text/plain": [
              "  school sex  age address famsize Pstatus  ...  Walc  health absences  G1  G2  G3\n",
              "0     GP   F   18       U     GT3       A  ...     1       3        6   5   6   6\n",
              "1     GP   F   17       U     GT3       T  ...     1       3        4   5   5   6\n",
              "2     GP   F   15       U     LE3       T  ...     3       3       10   7   8  10\n",
              "3     GP   F   15       U     GT3       T  ...     1       5        2  15  14  15\n",
              "4     GP   F   16       U     GT3       T  ...     2       5        4   6  10  10\n",
              "5     GP   M   16       U     LE3       T  ...     2       5       10  15  15  15\n",
              "6     GP   M   16       U     LE3       T  ...     1       3        0  12  12  11\n",
              "7     GP   F   17       U     GT3       A  ...     1       1        6   6   5   6\n",
              "8     GP   M   15       U     LE3       A  ...     1       1        0  16  18  19\n",
              "9     GP   M   15       U     GT3       T  ...     1       5        0  14  15  15\n",
              "\n",
              "[10 rows x 33 columns]"
            ]
          },
          "metadata": {
            "tags": []
          },
          "execution_count": 11
        }
      ]
    },
    {
      "cell_type": "markdown",
      "metadata": {
        "id": "i2bal50yG_PZ"
      },
      "source": [
        "We are just going to consider the columns `G1` and `G3` for univariate linear regression\n",
        "\n",
        "$G3_i = G1_i  \\cdot \\theta_1 + \\theta_0$"
      ]
    },
    {
      "cell_type": "code",
      "metadata": {
        "colab": {
          "base_uri": "https://localhost:8080/",
          "height": 204
        },
        "id": "Yw0PNCuTSEDC",
        "outputId": "23ea3203-59e1-4bd5-db6c-8077b91751c9"
      },
      "source": [
        "uniMathData = mathData[['G1', 'G3']]\n",
        "uniMathData.head(5)"
      ],
      "execution_count": 12,
      "outputs": [
        {
          "output_type": "execute_result",
          "data": {
            "text/html": [
              "<div>\n",
              "<style scoped>\n",
              "    .dataframe tbody tr th:only-of-type {\n",
              "        vertical-align: middle;\n",
              "    }\n",
              "\n",
              "    .dataframe tbody tr th {\n",
              "        vertical-align: top;\n",
              "    }\n",
              "\n",
              "    .dataframe thead th {\n",
              "        text-align: right;\n",
              "    }\n",
              "</style>\n",
              "<table border=\"1\" class=\"dataframe\">\n",
              "  <thead>\n",
              "    <tr style=\"text-align: right;\">\n",
              "      <th></th>\n",
              "      <th>G1</th>\n",
              "      <th>G3</th>\n",
              "    </tr>\n",
              "  </thead>\n",
              "  <tbody>\n",
              "    <tr>\n",
              "      <th>0</th>\n",
              "      <td>5</td>\n",
              "      <td>6</td>\n",
              "    </tr>\n",
              "    <tr>\n",
              "      <th>1</th>\n",
              "      <td>5</td>\n",
              "      <td>6</td>\n",
              "    </tr>\n",
              "    <tr>\n",
              "      <th>2</th>\n",
              "      <td>7</td>\n",
              "      <td>10</td>\n",
              "    </tr>\n",
              "    <tr>\n",
              "      <th>3</th>\n",
              "      <td>15</td>\n",
              "      <td>15</td>\n",
              "    </tr>\n",
              "    <tr>\n",
              "      <th>4</th>\n",
              "      <td>6</td>\n",
              "      <td>10</td>\n",
              "    </tr>\n",
              "  </tbody>\n",
              "</table>\n",
              "</div>"
            ],
            "text/plain": [
              "   G1  G3\n",
              "0   5   6\n",
              "1   5   6\n",
              "2   7  10\n",
              "3  15  15\n",
              "4   6  10"
            ]
          },
          "metadata": {
            "tags": []
          },
          "execution_count": 12
        }
      ]
    },
    {
      "cell_type": "code",
      "metadata": {
        "id": "eyzP9mL4Hmb5"
      },
      "source": [
        "uniMathData.to_csv('univariate_MathData_2.csv')"
      ],
      "execution_count": 13,
      "outputs": []
    },
    {
      "cell_type": "code",
      "metadata": {
        "colab": {
          "base_uri": "https://localhost:8080/"
        },
        "id": "I-3qK_nNxnTA",
        "outputId": "2af9c0f5-585e-4fcd-da08-a864bf9036b5"
      },
      "source": [
        "ls"
      ],
      "execution_count": 14,
      "outputs": [
        {
          "output_type": "stream",
          "text": [
            "cleanedMathData.csv  student-merge.R  univariate_MathData_2.csv\n",
            "student-mat.csv      student-por.csv\n",
            "student-mat.gsheet   student.txt\n"
          ],
          "name": "stdout"
        }
      ]
    },
    {
      "cell_type": "markdown",
      "metadata": {
        "id": "ImV3p6AKxszU"
      },
      "source": [
        "## Data visualization"
      ]
    },
    {
      "cell_type": "code",
      "metadata": {
        "colab": {
          "base_uri": "https://localhost:8080/",
          "height": 157
        },
        "id": "RqumcsZLxq4v",
        "outputId": "f8e70a16-f23d-48c8-a87a-abdfe0641a24"
      },
      "source": [
        "import seaborn as sns\n",
        "sns.palplot(sns.color_palette('PuOr')) #Purple to Orange colors\n",
        "pal = sns.color_palette('PuOr', 6) #print 6 color shades from Purple to Orange\n",
        "pal.as_hex() #set hex code values for colors\n",
        "\n",
        "import matplotlib.pyplot as plt\n",
        "plt.style.use(['seaborn'])\n",
        "sns_colors = ['#c6690c', '#664697'] #orange Purple hex codes\n",
        "sns.set_palette(sns_colors) #set the palette as sns_colors \n",
        "sns.palplot(sns.color_palette(sns_colors)) #plot the color codes"
      ],
      "execution_count": 15,
      "outputs": [
        {
          "output_type": "display_data",
          "data": {
            "image/png": "[encoded data removed]",
            "text/plain": [
              "<Figure size 432x72 with 1 Axes>"
            ]
          },
          "metadata": {
            "tags": [],
            "needs_background": "light"
          }
        },
        {
          "output_type": "display_data",
          "data": {
            "image/png": "[encoded data removed]",
            "text/plain": [
              "<Figure size 144x72 with 1 Axes>"
            ]
          },
          "metadata": {
            "tags": []
          }
        }
      ]
    },
    {
      "cell_type": "code",
      "metadata": {
        "colab": {
          "base_uri": "https://localhost:8080/"
        },
        "id": "A6MT5E8Fy7MZ",
        "outputId": "213a732a-5b62-42c8-fb7a-18821d11db2f"
      },
      "source": [
        "uniMathData.columns #columns in the dataframe"
      ],
      "execution_count": 16,
      "outputs": [
        {
          "output_type": "execute_result",
          "data": {
            "text/plain": [
              "Index(['G1', 'G3'], dtype='object')"
            ]
          },
          "metadata": {
            "tags": []
          },
          "execution_count": 16
        }
      ]
    },
    {
      "cell_type": "code",
      "metadata": {
        "colab": {
          "base_uri": "https://localhost:8080/",
          "height": 391
        },
        "id": "PrsTwdHHzBbk",
        "outputId": "be5209dc-8cb5-41b1-cfb6-ef9111f9735b"
      },
      "source": [
        "#pairplot for all the values\n",
        "\n",
        "sns.pairplot(uniMathData,\n",
        "             x_vars = ['G1', 'G3'],\n",
        "             y_vars =  ['G1', 'G3'],\n",
        "       diag_kind='kde'\n",
        "             )"
      ],
      "execution_count": 17,
      "outputs": [
        {
          "output_type": "execute_result",
          "data": {
            "text/plain": [
              "<seaborn.axisgrid.PairGrid at 0x7f9a36b36c90>"
            ]
          },
          "metadata": {
            "tags": []
          },
          "execution_count": 17
        },
        {
          "output_type": "display_data",
          "data": {
            "image/png": "[encoded data removed]",
            "text/plain": [
              "<Figure size 360x360 with 6 Axes>"
            ]
          },
          "metadata": {
            "tags": []
          }
        }
      ]
    },
    {
      "cell_type": "markdown",
      "metadata": {
        "id": "Klm33YcpKZkl"
      },
      "source": [
        "## Data Splits"
      ]
    },
    {
      "cell_type": "code",
      "metadata": {
        "colab": {
          "base_uri": "https://localhost:8080/"
        },
        "id": "UwrSOCKS1NhN",
        "outputId": "8edb85cb-4dde-4ac8-b522-2f2b9b5c5764"
      },
      "source": [
        "#80-20 train-test percent split\n",
        "\n",
        "trainDataset = uniMathData.sample(frac=0.8, random_state=0) \n",
        "testDataset = uniMathData.drop(trainDataset.index)\n",
        "\n",
        "print(trainDataset.head())\n",
        "print(testDataset.head())"
      ],
      "execution_count": 18,
      "outputs": [
        {
          "output_type": "stream",
          "text": [
            "     G1  G3\n",
            "329  14  14\n",
            "318  11  10\n",
            "317   9   9\n",
            "65   16  15\n",
            "59   15  16\n",
            "    G1  G3\n",
            "9   14  15\n",
            "25   6   8\n",
            "28  11  11\n",
            "31  17  17\n",
            "32  17  16\n"
          ],
          "name": "stdout"
        }
      ]
    },
    {
      "cell_type": "code",
      "metadata": {
        "colab": {
          "base_uri": "https://localhost:8080/"
        },
        "id": "YWO2xRV53wV-",
        "outputId": "1d222aa9-cbd3-43e1-ad0e-310b950b7205"
      },
      "source": [
        "print(trainDataset.shape)\n",
        "print(testDataset.shape)"
      ],
      "execution_count": 19,
      "outputs": [
        {
          "output_type": "stream",
          "text": [
            "(316, 2)\n",
            "(79, 2)\n"
          ],
          "name": "stdout"
        }
      ]
    },
    {
      "cell_type": "code",
      "metadata": {
        "colab": {
          "base_uri": "https://localhost:8080/"
        },
        "id": "OmDTbvMC32hg",
        "outputId": "1f895360-05b5-46f7-ab79-8c11c8a4cf75"
      },
      "source": [
        "#copy the trainDataset dataframe for getting the features\n",
        "\n",
        "trainFeatures = trainDataset.copy()\n",
        "testFeatures = testDataset.copy()\n",
        "\n",
        "print(trainFeatures.head())\n",
        "print(testFeatures.head())"
      ],
      "execution_count": 20,
      "outputs": [
        {
          "output_type": "stream",
          "text": [
            "     G1  G3\n",
            "329  14  14\n",
            "318  11  10\n",
            "317   9   9\n",
            "65   16  15\n",
            "59   15  16\n",
            "    G1  G3\n",
            "9   14  15\n",
            "25   6   8\n",
            "28  11  11\n",
            "31  17  17\n",
            "32  17  16\n"
          ],
          "name": "stdout"
        }
      ]
    },
    {
      "cell_type": "code",
      "metadata": {
        "colab": {
          "base_uri": "https://localhost:8080/"
        },
        "id": "jSR0_uni4ayh",
        "outputId": "9535b0af-2528-4536-c77d-172bf00ad718"
      },
      "source": [
        "#removing the G3 column and saving it into the labels variable\n",
        "\n",
        "trainLabels = trainFeatures.pop('G3')\n",
        "testLabels = testFeatures.pop('G3')\n",
        "\n",
        "print(trainLabels.head())\n",
        "print(testLabels.head())"
      ],
      "execution_count": 21,
      "outputs": [
        {
          "output_type": "stream",
          "text": [
            "329    14\n",
            "318    10\n",
            "317     9\n",
            "65     15\n",
            "59     16\n",
            "Name: G3, dtype: int64\n",
            "9     15\n",
            "25     8\n",
            "28    11\n",
            "31    17\n",
            "32    16\n",
            "Name: G3, dtype: int64\n"
          ],
          "name": "stdout"
        }
      ]
    },
    {
      "cell_type": "code",
      "metadata": {
        "colab": {
          "base_uri": "https://localhost:8080/"
        },
        "id": "HnGSqb-q4wk8",
        "outputId": "5ae4b132-975c-42ee-cfdf-76eaa86c37f3"
      },
      "source": [
        "print(trainFeatures.head())\n",
        "print(testFeatures.head())"
      ],
      "execution_count": 22,
      "outputs": [
        {
          "output_type": "stream",
          "text": [
            "     G1\n",
            "329  14\n",
            "318  11\n",
            "317   9\n",
            "65   16\n",
            "59   15\n",
            "    G1\n",
            "9   14\n",
            "25   6\n",
            "28  11\n",
            "31  17\n",
            "32  17\n"
          ],
          "name": "stdout"
        }
      ]
    },
    {
      "cell_type": "code",
      "metadata": {
        "id": "XPTSq34jk4o_"
      },
      "source": [
        "# univariate -> num(features) = 1\n",
        "# multvariate -> num(features) > 1 = 11\n",
        "\n",
        "\n",
        "model = tf.keras.Sequential([\n",
        "                             tf.keras.layers.Dense(1)\n",
        "\n",
        "])"
      ],
      "execution_count": 23,
      "outputs": []
    },
    {
      "cell_type": "code",
      "metadata": {
        "id": "4C4GKBdE6iCE"
      },
      "source": [
        "model.compile(\n",
        "    loss = 'mean_absolute_error', #minimizing the MAE loss\n",
        "    optimizer = tf.keras.optimizers.Adam(0.001), #learning rate specified as 0.001\n",
        "    # optimizer = 'adam', #takes the default learning rate\n",
        "    metrics = ['mae', 'mse'] #meanSquare and meanAbsolute error metrics\n",
        ")"
      ],
      "execution_count": 24,
      "outputs": []
    },
    {
      "cell_type": "code",
      "metadata": {
        "colab": {
          "base_uri": "https://localhost:8080/"
        },
        "id": "d_A7DrhB6zvm",
        "outputId": "d80688c7-a9e1-4a69-e989-2c19654ce9f8"
      },
      "source": [
        "numEpochs = 300\n",
        "history = model.fit(x = trainFeatures, y = trainLabels, validation_data = (testFeatures, testLabels), epochs = numEpochs)"
      ],
      "execution_count": 25,
      "outputs": [
        {
          "output_type": "stream",
          "text": [
            "Epoch 1/300\n",
            "10/10 [==============================] - 1s 21ms/step - loss: 9.5137 - mae: 9.5137 - mse: 107.0444 - val_loss: 9.9312 - val_mae: 9.9312 - val_mse: 114.9584\n",
            "Epoch 2/300\n",
            "10/10 [==============================] - 0s 3ms/step - loss: 9.4149 - mae: 9.4149 - mse: 104.6889 - val_loss: 9.8210 - val_mae: 9.8210 - val_mse: 112.2816\n",
            "Epoch 3/300\n",
            "10/10 [==============================] - 0s 6ms/step - loss: 9.3125 - mae: 9.3125 - mse: 102.2948 - val_loss: 9.7124 - val_mae: 9.7124 - val_mse: 109.6766\n",
            "Epoch 4/300\n",
            "10/10 [==============================] - 0s 3ms/step - loss: 9.2133 - mae: 9.2133 - mse: 99.9427 - val_loss: 9.6027 - val_mae: 9.6027 - val_mse: 107.0757\n",
            "Epoch 5/300\n",
            "10/10 [==============================] - 0s 4ms/step - loss: 9.1127 - mae: 9.1127 - mse: 97.6611 - val_loss: 9.4928 - val_mae: 9.4928 - val_mse: 104.5056\n",
            "Epoch 6/300\n",
            "10/10 [==============================] - 0s 3ms/step - loss: 9.0132 - mae: 9.0132 - mse: 95.4056 - val_loss: 9.3821 - val_mae: 9.3821 - val_mse: 101.9511\n",
            "Epoch 7/300\n",
            "10/10 [==============================] - 0s 4ms/step - loss: 8.9131 - mae: 8.9131 - mse: 93.1189 - val_loss: 9.2716 - val_mae: 9.2716 - val_mse: 99.4335\n",
            "Epoch 8/300\n",
            "10/10 [==============================] - 0s 4ms/step - loss: 8.8111 - mae: 8.8111 - mse: 90.8495 - val_loss: 9.1629 - val_mae: 9.1629 - val_mse: 96.9887\n",
            "Epoch 9/300\n",
            "10/10 [==============================] - 0s 4ms/step - loss: 8.7111 - mae: 8.7111 - mse: 88.6925 - val_loss: 9.0536 - val_mae: 9.0536 - val_mse: 94.5644\n",
            "Epoch 10/300\n",
            "10/10 [==============================] - 0s 4ms/step - loss: 8.6123 - mae: 8.6123 - mse: 86.5388 - val_loss: 8.9429 - val_mae: 8.9429 - val_mse: 92.1429\n",
            "Epoch 11/300\n",
            "10/10 [==============================] - 0s 4ms/step - loss: 8.5096 - mae: 8.5096 - mse: 84.3666 - val_loss: 8.8345 - val_mae: 8.8345 - val_mse: 89.8037\n",
            "Epoch 12/300\n",
            "10/10 [==============================] - 0s 6ms/step - loss: 8.4109 - mae: 8.4109 - mse: 82.2989 - val_loss: 8.7244 - val_mae: 8.7244 - val_mse: 87.4607\n",
            "Epoch 13/300\n",
            "10/10 [==============================] - 0s 5ms/step - loss: 8.3092 - mae: 8.3092 - mse: 80.2003 - val_loss: 8.6155 - val_mae: 8.6155 - val_mse: 85.1748\n",
            "Epoch 14/300\n",
            "10/10 [==============================] - 0s 4ms/step - loss: 8.2096 - mae: 8.2096 - mse: 78.1616 - val_loss: 8.5055 - val_mae: 8.5055 - val_mse: 82.9007\n",
            "Epoch 15/300\n",
            "10/10 [==============================] - 0s 5ms/step - loss: 8.1091 - mae: 8.1091 - mse: 76.1427 - val_loss: 8.3958 - val_mae: 8.3958 - val_mse: 80.6654\n",
            "Epoch 16/300\n",
            "10/10 [==============================] - 0s 3ms/step - loss: 8.0107 - mae: 8.0107 - mse: 74.1992 - val_loss: 8.2845 - val_mae: 8.2845 - val_mse: 78.4315\n",
            "Epoch 17/300\n",
            "10/10 [==============================] - 0s 4ms/step - loss: 7.9095 - mae: 7.9095 - mse: 72.1955 - val_loss: 8.1744 - val_mae: 8.1744 - val_mse: 76.2569\n",
            "Epoch 18/300\n",
            "10/10 [==============================] - 0s 5ms/step - loss: 7.8086 - mae: 7.8086 - mse: 70.2775 - val_loss: 8.0656 - val_mae: 8.0656 - val_mse: 74.1377\n",
            "Epoch 19/300\n",
            "10/10 [==============================] - 0s 4ms/step - loss: 7.7079 - mae: 7.7079 - mse: 68.3816 - val_loss: 7.9570 - val_mae: 7.9570 - val_mse: 72.0578\n",
            "Epoch 20/300\n",
            "10/10 [==============================] - 0s 4ms/step - loss: 7.6095 - mae: 7.6095 - mse: 66.5196 - val_loss: 7.8466 - val_mae: 7.8466 - val_mse: 69.9750\n",
            "Epoch 21/300\n",
            "10/10 [==============================] - 0s 4ms/step - loss: 7.5081 - mae: 7.5081 - mse: 64.6983 - val_loss: 7.7374 - val_mae: 7.7374 - val_mse: 67.9477\n",
            "Epoch 22/300\n",
            "10/10 [==============================] - 0s 4ms/step - loss: 7.4081 - mae: 7.4081 - mse: 62.8923 - val_loss: 7.6279 - val_mae: 7.6279 - val_mse: 65.9483\n",
            "Epoch 23/300\n",
            "10/10 [==============================] - 0s 4ms/step - loss: 7.3087 - mae: 7.3087 - mse: 61.1078 - val_loss: 7.5178 - val_mae: 7.5178 - val_mse: 63.9709\n",
            "Epoch 24/300\n",
            "10/10 [==============================] - 0s 5ms/step - loss: 7.2077 - mae: 7.2077 - mse: 59.3582 - val_loss: 7.4087 - val_mae: 7.4087 - val_mse: 62.0444\n",
            "Epoch 25/300\n",
            "10/10 [==============================] - 0s 4ms/step - loss: 7.1083 - mae: 7.1083 - mse: 57.6579 - val_loss: 7.2989 - val_mae: 7.2989 - val_mse: 60.1377\n",
            "Epoch 26/300\n",
            "10/10 [==============================] - 0s 4ms/step - loss: 7.0078 - mae: 7.0078 - mse: 55.9503 - val_loss: 7.1896 - val_mae: 7.1896 - val_mse: 58.2737\n",
            "Epoch 27/300\n",
            "10/10 [==============================] - 0s 4ms/step - loss: 6.9082 - mae: 6.9082 - mse: 54.3077 - val_loss: 7.0798 - val_mae: 7.0798 - val_mse: 56.4337\n",
            "Epoch 28/300\n",
            "10/10 [==============================] - 0s 4ms/step - loss: 6.8076 - mae: 6.8076 - mse: 52.6596 - val_loss: 6.9705 - val_mae: 6.9705 - val_mse: 54.6359\n",
            "Epoch 29/300\n",
            "10/10 [==============================] - 0s 4ms/step - loss: 6.7080 - mae: 6.7080 - mse: 51.0635 - val_loss: 6.8607 - val_mae: 6.8607 - val_mse: 52.8620\n",
            "Epoch 30/300\n",
            "10/10 [==============================] - 0s 4ms/step - loss: 6.6066 - mae: 6.6066 - mse: 49.5092 - val_loss: 6.7521 - val_mae: 6.7521 - val_mse: 51.1405\n",
            "Epoch 31/300\n",
            "10/10 [==============================] - 0s 6ms/step - loss: 6.5070 - mae: 6.5070 - mse: 47.9552 - val_loss: 6.6427 - val_mae: 6.6427 - val_mse: 49.4394\n",
            "Epoch 32/300\n",
            "10/10 [==============================] - 0s 5ms/step - loss: 6.4079 - mae: 6.4079 - mse: 46.4532 - val_loss: 6.5322 - val_mae: 6.5322 - val_mse: 47.7542\n",
            "Epoch 33/300\n",
            "10/10 [==============================] - 0s 4ms/step - loss: 6.3066 - mae: 6.3066 - mse: 44.9726 - val_loss: 6.4227 - val_mae: 6.4227 - val_mse: 46.1181\n",
            "Epoch 34/300\n",
            "10/10 [==============================] - 0s 4ms/step - loss: 6.2067 - mae: 6.2067 - mse: 43.5111 - val_loss: 6.3128 - val_mae: 6.3128 - val_mse: 44.5084\n",
            "Epoch 35/300\n",
            "10/10 [==============================] - 0s 4ms/step - loss: 6.1063 - mae: 6.1063 - mse: 42.0737 - val_loss: 6.2031 - val_mae: 6.2031 - val_mse: 42.9355\n",
            "Epoch 36/300\n",
            "10/10 [==============================] - 0s 4ms/step - loss: 6.0054 - mae: 6.0054 - mse: 40.6612 - val_loss: 6.0942 - val_mae: 6.0942 - val_mse: 41.4057\n",
            "Epoch 37/300\n",
            "10/10 [==============================] - 0s 5ms/step - loss: 5.9057 - mae: 5.9057 - mse: 39.3151 - val_loss: 5.9847 - val_mae: 5.9847 - val_mse: 39.9005\n",
            "Epoch 38/300\n",
            "10/10 [==============================] - 0s 5ms/step - loss: 5.8060 - mae: 5.8060 - mse: 37.9920 - val_loss: 5.8747 - val_mae: 5.8747 - val_mse: 38.4228\n",
            "Epoch 39/300\n",
            "10/10 [==============================] - 0s 4ms/step - loss: 5.7058 - mae: 5.7058 - mse: 36.6837 - val_loss: 5.7650 - val_mae: 5.7650 - val_mse: 36.9807\n",
            "Epoch 40/300\n",
            "10/10 [==============================] - 0s 4ms/step - loss: 5.6040 - mae: 5.6040 - mse: 35.3927 - val_loss: 5.6570 - val_mae: 5.6570 - val_mse: 35.5943\n",
            "Epoch 41/300\n",
            "10/10 [==============================] - 0s 4ms/step - loss: 5.5058 - mae: 5.5058 - mse: 34.1672 - val_loss: 5.5465 - val_mae: 5.5465 - val_mse: 34.2094\n",
            "Epoch 42/300\n",
            "10/10 [==============================] - 0s 4ms/step - loss: 5.4052 - mae: 5.4052 - mse: 32.9520 - val_loss: 5.4365 - val_mae: 5.4365 - val_mse: 32.8632\n",
            "Epoch 43/300\n",
            "10/10 [==============================] - 0s 4ms/step - loss: 5.3046 - mae: 5.3046 - mse: 31.7474 - val_loss: 5.3269 - val_mae: 5.3269 - val_mse: 31.5552\n",
            "Epoch 44/300\n",
            "10/10 [==============================] - 0s 4ms/step - loss: 5.2045 - mae: 5.2045 - mse: 30.5976 - val_loss: 5.2172 - val_mae: 5.2172 - val_mse: 30.2796\n",
            "Epoch 45/300\n",
            "10/10 [==============================] - 0s 4ms/step - loss: 5.1060 - mae: 5.1060 - mse: 29.4998 - val_loss: 5.1058 - val_mae: 5.1058 - val_mse: 29.0179\n",
            "Epoch 46/300\n",
            "10/10 [==============================] - 0s 4ms/step - loss: 5.0031 - mae: 5.0031 - mse: 28.3663 - val_loss: 4.9979 - val_mae: 4.9979 - val_mse: 27.8280\n",
            "Epoch 47/300\n",
            "10/10 [==============================] - 0s 4ms/step - loss: 4.9046 - mae: 4.9046 - mse: 27.3012 - val_loss: 4.8881 - val_mae: 4.8881 - val_mse: 26.6506\n",
            "Epoch 48/300\n",
            "10/10 [==============================] - 0s 4ms/step - loss: 4.8033 - mae: 4.8033 - mse: 26.2423 - val_loss: 4.7796 - val_mae: 4.7796 - val_mse: 25.5195\n",
            "Epoch 49/300\n",
            "10/10 [==============================] - 0s 4ms/step - loss: 4.7027 - mae: 4.7027 - mse: 25.2236 - val_loss: 4.6722 - val_mae: 4.6722 - val_mse: 24.4253\n",
            "Epoch 50/300\n",
            "10/10 [==============================] - 0s 4ms/step - loss: 4.6048 - mae: 4.6048 - mse: 24.2768 - val_loss: 4.5639 - val_mae: 4.5639 - val_mse: 23.3378\n",
            "Epoch 51/300\n",
            "10/10 [==============================] - 0s 3ms/step - loss: 4.5031 - mae: 4.5031 - mse: 23.3062 - val_loss: 4.4574 - val_mae: 4.4574 - val_mse: 22.3024\n",
            "Epoch 52/300\n",
            "10/10 [==============================] - 0s 4ms/step - loss: 4.4036 - mae: 4.4036 - mse: 22.3801 - val_loss: 4.3508 - val_mae: 4.3508 - val_mse: 21.2981\n",
            "Epoch 53/300\n",
            "10/10 [==============================] - 0s 4ms/step - loss: 4.3069 - mae: 4.3069 - mse: 21.5289 - val_loss: 4.2414 - val_mae: 4.2414 - val_mse: 20.3014\n",
            "Epoch 54/300\n",
            "10/10 [==============================] - 0s 4ms/step - loss: 4.2047 - mae: 4.2047 - mse: 20.6434 - val_loss: 4.1357 - val_mae: 4.1357 - val_mse: 19.3707\n",
            "Epoch 55/300\n",
            "10/10 [==============================] - 0s 4ms/step - loss: 4.1082 - mae: 4.1082 - mse: 19.8335 - val_loss: 4.0284 - val_mae: 4.0284 - val_mse: 18.4591\n",
            "Epoch 56/300\n",
            "10/10 [==============================] - 0s 3ms/step - loss: 4.0097 - mae: 4.0097 - mse: 19.0220 - val_loss: 3.9219 - val_mae: 3.9219 - val_mse: 17.5862\n",
            "Epoch 57/300\n",
            "10/10 [==============================] - 0s 4ms/step - loss: 3.9111 - mae: 3.9111 - mse: 18.2631 - val_loss: 3.8168 - val_mae: 3.8168 - val_mse: 16.7571\n",
            "Epoch 58/300\n",
            "10/10 [==============================] - 0s 4ms/step - loss: 3.8149 - mae: 3.8149 - mse: 17.5258 - val_loss: 3.7121 - val_mae: 3.7121 - val_mse: 15.9630\n",
            "Epoch 59/300\n",
            "10/10 [==============================] - 0s 4ms/step - loss: 3.7187 - mae: 3.7187 - mse: 16.8135 - val_loss: 3.6077 - val_mae: 3.6077 - val_mse: 15.2025\n",
            "Epoch 60/300\n",
            "10/10 [==============================] - 0s 4ms/step - loss: 3.6251 - mae: 3.6251 - mse: 16.1532 - val_loss: 3.5007 - val_mae: 3.5007 - val_mse: 14.4552\n",
            "Epoch 61/300\n",
            "10/10 [==============================] - 0s 4ms/step - loss: 3.5285 - mae: 3.5285 - mse: 15.4971 - val_loss: 3.3972 - val_mae: 3.3972 - val_mse: 13.7635\n",
            "Epoch 62/300\n",
            "10/10 [==============================] - 0s 4ms/step - loss: 3.4372 - mae: 3.4372 - mse: 14.8875 - val_loss: 3.2939 - val_mae: 3.2939 - val_mse: 13.1037\n",
            "Epoch 63/300\n",
            "10/10 [==============================] - 0s 4ms/step - loss: 3.3448 - mae: 3.3448 - mse: 14.3070 - val_loss: 3.1919 - val_mae: 3.1919 - val_mse: 12.4824\n",
            "Epoch 64/300\n",
            "10/10 [==============================] - 0s 4ms/step - loss: 3.2537 - mae: 3.2537 - mse: 13.7664 - val_loss: 3.0895 - val_mae: 3.0895 - val_mse: 11.8889\n",
            "Epoch 65/300\n",
            "10/10 [==============================] - 0s 5ms/step - loss: 3.1644 - mae: 3.1644 - mse: 13.2485 - val_loss: 2.9870 - val_mae: 2.9870 - val_mse: 11.3178\n",
            "Epoch 66/300\n",
            "10/10 [==============================] - 0s 4ms/step - loss: 3.0724 - mae: 3.0724 - mse: 12.7296 - val_loss: 2.8896 - val_mae: 2.8896 - val_mse: 10.7930\n",
            "Epoch 67/300\n",
            "10/10 [==============================] - 0s 4ms/step - loss: 2.9869 - mae: 2.9869 - mse: 12.2927 - val_loss: 2.7907 - val_mae: 2.7907 - val_mse: 10.2899\n",
            "Epoch 68/300\n",
            "10/10 [==============================] - 0s 4ms/step - loss: 2.8992 - mae: 2.8992 - mse: 11.8434 - val_loss: 2.6967 - val_mae: 2.6967 - val_mse: 9.8400\n",
            "Epoch 69/300\n",
            "10/10 [==============================] - 0s 4ms/step - loss: 2.8193 - mae: 2.8193 - mse: 11.4494 - val_loss: 2.6020 - val_mae: 2.6020 - val_mse: 9.4077\n",
            "Epoch 70/300\n",
            "10/10 [==============================] - 0s 4ms/step - loss: 2.7387 - mae: 2.7387 - mse: 11.0780 - val_loss: 2.5149 - val_mae: 2.5149 - val_mse: 9.0143\n",
            "Epoch 71/300\n",
            "10/10 [==============================] - 0s 4ms/step - loss: 2.6611 - mae: 2.6611 - mse: 10.7424 - val_loss: 2.4297 - val_mae: 2.4297 - val_mse: 8.6557\n",
            "Epoch 72/300\n",
            "10/10 [==============================] - 0s 4ms/step - loss: 2.5868 - mae: 2.5868 - mse: 10.4323 - val_loss: 2.3447 - val_mae: 2.3447 - val_mse: 8.3233\n",
            "Epoch 73/300\n",
            "10/10 [==============================] - 0s 4ms/step - loss: 2.5119 - mae: 2.5119 - mse: 10.1370 - val_loss: 2.2623 - val_mae: 2.2623 - val_mse: 8.0253\n",
            "Epoch 74/300\n",
            "10/10 [==============================] - 0s 4ms/step - loss: 2.4470 - mae: 2.4470 - mse: 9.8831 - val_loss: 2.1801 - val_mae: 2.1801 - val_mse: 7.7521\n",
            "Epoch 75/300\n",
            "10/10 [==============================] - 0s 4ms/step - loss: 2.3823 - mae: 2.3823 - mse: 9.6492 - val_loss: 2.1038 - val_mae: 2.1038 - val_mse: 7.5170\n",
            "Epoch 76/300\n",
            "10/10 [==============================] - 0s 5ms/step - loss: 2.3236 - mae: 2.3236 - mse: 9.4287 - val_loss: 2.0335 - val_mae: 2.0335 - val_mse: 7.3142\n",
            "Epoch 77/300\n",
            "10/10 [==============================] - 0s 4ms/step - loss: 2.2696 - mae: 2.2696 - mse: 9.2612 - val_loss: 1.9655 - val_mae: 1.9655 - val_mse: 7.1296\n",
            "Epoch 78/300\n",
            "10/10 [==============================] - 0s 4ms/step - loss: 2.2201 - mae: 2.2201 - mse: 9.1058 - val_loss: 1.9032 - val_mae: 1.9032 - val_mse: 6.9729\n",
            "Epoch 79/300\n",
            "10/10 [==============================] - 0s 5ms/step - loss: 2.1742 - mae: 2.1742 - mse: 8.9801 - val_loss: 1.8458 - val_mae: 1.8458 - val_mse: 6.8429\n",
            "Epoch 80/300\n",
            "10/10 [==============================] - 0s 6ms/step - loss: 2.1377 - mae: 2.1377 - mse: 8.8664 - val_loss: 1.7939 - val_mae: 1.7939 - val_mse: 6.7304\n",
            "Epoch 81/300\n",
            "10/10 [==============================] - 0s 5ms/step - loss: 2.1047 - mae: 2.1047 - mse: 8.7678 - val_loss: 1.7495 - val_mae: 1.7495 - val_mse: 6.6390\n",
            "Epoch 82/300\n",
            "10/10 [==============================] - 0s 4ms/step - loss: 2.0749 - mae: 2.0749 - mse: 8.6968 - val_loss: 1.7176 - val_mae: 1.7176 - val_mse: 6.5627\n",
            "Epoch 83/300\n",
            "10/10 [==============================] - 0s 4ms/step - loss: 2.0487 - mae: 2.0487 - mse: 8.6314 - val_loss: 1.6863 - val_mae: 1.6863 - val_mse: 6.4958\n",
            "Epoch 84/300\n",
            "10/10 [==============================] - 0s 5ms/step - loss: 2.0222 - mae: 2.0222 - mse: 8.5731 - val_loss: 1.6623 - val_mae: 1.6623 - val_mse: 6.4439\n",
            "Epoch 85/300\n",
            "10/10 [==============================] - 0s 4ms/step - loss: 2.0001 - mae: 2.0001 - mse: 8.5346 - val_loss: 1.6411 - val_mae: 1.6411 - val_mse: 6.4017\n",
            "Epoch 86/300\n",
            "10/10 [==============================] - 0s 4ms/step - loss: 1.9794 - mae: 1.9794 - mse: 8.4899 - val_loss: 1.6256 - val_mae: 1.6256 - val_mse: 6.3734\n",
            "Epoch 87/300\n",
            "10/10 [==============================] - 0s 4ms/step - loss: 1.9650 - mae: 1.9650 - mse: 8.4699 - val_loss: 1.6118 - val_mae: 1.6118 - val_mse: 6.3503\n",
            "Epoch 88/300\n",
            "10/10 [==============================] - 0s 5ms/step - loss: 1.9518 - mae: 1.9518 - mse: 8.4505 - val_loss: 1.6006 - val_mae: 1.6006 - val_mse: 6.3346\n",
            "Epoch 89/300\n",
            "10/10 [==============================] - 0s 4ms/step - loss: 1.9397 - mae: 1.9397 - mse: 8.4323 - val_loss: 1.5963 - val_mae: 1.5963 - val_mse: 6.3252\n",
            "Epoch 90/300\n",
            "10/10 [==============================] - 0s 5ms/step - loss: 1.9317 - mae: 1.9317 - mse: 8.4206 - val_loss: 1.5932 - val_mae: 1.5932 - val_mse: 6.3197\n",
            "Epoch 91/300\n",
            "10/10 [==============================] - 0s 5ms/step - loss: 1.9238 - mae: 1.9238 - mse: 8.4175 - val_loss: 1.5915 - val_mae: 1.5915 - val_mse: 6.3174\n",
            "Epoch 92/300\n",
            "10/10 [==============================] - 0s 4ms/step - loss: 1.9182 - mae: 1.9182 - mse: 8.4252 - val_loss: 1.5900 - val_mae: 1.5900 - val_mse: 6.3183\n",
            "Epoch 93/300\n",
            "10/10 [==============================] - 0s 4ms/step - loss: 1.9107 - mae: 1.9107 - mse: 8.4219 - val_loss: 1.5898 - val_mae: 1.5898 - val_mse: 6.3211\n",
            "Epoch 94/300\n",
            "10/10 [==============================] - 0s 4ms/step - loss: 1.9059 - mae: 1.9059 - mse: 8.4246 - val_loss: 1.5896 - val_mae: 1.5896 - val_mse: 6.3257\n",
            "Epoch 95/300\n",
            "10/10 [==============================] - 0s 4ms/step - loss: 1.9010 - mae: 1.9010 - mse: 8.4264 - val_loss: 1.5904 - val_mae: 1.5904 - val_mse: 6.3315\n",
            "Epoch 96/300\n",
            "10/10 [==============================] - 0s 4ms/step - loss: 1.8966 - mae: 1.8966 - mse: 8.4314 - val_loss: 1.5914 - val_mae: 1.5914 - val_mse: 6.3399\n",
            "Epoch 97/300\n",
            "10/10 [==============================] - 0s 5ms/step - loss: 1.8921 - mae: 1.8921 - mse: 8.4374 - val_loss: 1.5929 - val_mae: 1.5929 - val_mse: 6.3491\n",
            "Epoch 98/300\n",
            "10/10 [==============================] - 0s 4ms/step - loss: 1.8890 - mae: 1.8890 - mse: 8.4491 - val_loss: 1.5943 - val_mae: 1.5943 - val_mse: 6.3595\n",
            "Epoch 99/300\n",
            "10/10 [==============================] - 0s 4ms/step - loss: 1.8855 - mae: 1.8855 - mse: 8.4533 - val_loss: 1.5956 - val_mae: 1.5956 - val_mse: 6.3708\n",
            "Epoch 100/300\n",
            "10/10 [==============================] - 0s 4ms/step - loss: 1.8825 - mae: 1.8825 - mse: 8.4685 - val_loss: 1.5970 - val_mae: 1.5970 - val_mse: 6.3838\n",
            "Epoch 101/300\n",
            "10/10 [==============================] - 0s 5ms/step - loss: 1.8799 - mae: 1.8799 - mse: 8.4765 - val_loss: 1.5997 - val_mae: 1.5997 - val_mse: 6.3962\n",
            "Epoch 102/300\n",
            "10/10 [==============================] - 0s 4ms/step - loss: 1.8785 - mae: 1.8785 - mse: 8.4887 - val_loss: 1.6020 - val_mae: 1.6020 - val_mse: 6.4076\n",
            "Epoch 103/300\n",
            "10/10 [==============================] - 0s 5ms/step - loss: 1.8767 - mae: 1.8767 - mse: 8.4952 - val_loss: 1.6036 - val_mae: 1.6036 - val_mse: 6.4159\n",
            "Epoch 104/300\n",
            "10/10 [==============================] - 0s 4ms/step - loss: 1.8754 - mae: 1.8754 - mse: 8.5018 - val_loss: 1.6051 - val_mae: 1.6051 - val_mse: 6.4238\n",
            "Epoch 105/300\n",
            "10/10 [==============================] - 0s 4ms/step - loss: 1.8742 - mae: 1.8742 - mse: 8.5086 - val_loss: 1.6068 - val_mae: 1.6068 - val_mse: 6.4334\n",
            "Epoch 106/300\n",
            "10/10 [==============================] - 0s 4ms/step - loss: 1.8735 - mae: 1.8735 - mse: 8.5180 - val_loss: 1.6097 - val_mae: 1.6097 - val_mse: 6.4453\n",
            "Epoch 107/300\n",
            "10/10 [==============================] - 0s 4ms/step - loss: 1.8731 - mae: 1.8731 - mse: 8.5256 - val_loss: 1.6114 - val_mae: 1.6114 - val_mse: 6.4521\n",
            "Epoch 108/300\n",
            "10/10 [==============================] - 0s 4ms/step - loss: 1.8729 - mae: 1.8729 - mse: 8.5317 - val_loss: 1.6128 - val_mae: 1.6128 - val_mse: 6.4574\n",
            "Epoch 109/300\n",
            "10/10 [==============================] - 0s 7ms/step - loss: 1.8727 - mae: 1.8727 - mse: 8.5335 - val_loss: 1.6128 - val_mae: 1.6128 - val_mse: 6.4572\n",
            "Epoch 110/300\n",
            "10/10 [==============================] - 0s 4ms/step - loss: 1.8726 - mae: 1.8726 - mse: 8.5364 - val_loss: 1.6145 - val_mae: 1.6145 - val_mse: 6.4637\n",
            "Epoch 111/300\n",
            "10/10 [==============================] - 0s 5ms/step - loss: 1.8723 - mae: 1.8723 - mse: 8.5400 - val_loss: 1.6152 - val_mae: 1.6152 - val_mse: 6.4665\n",
            "Epoch 112/300\n",
            "10/10 [==============================] - 0s 7ms/step - loss: 1.8723 - mae: 1.8723 - mse: 8.5450 - val_loss: 1.6167 - val_mae: 1.6167 - val_mse: 6.4728\n",
            "Epoch 113/300\n",
            "10/10 [==============================] - 0s 4ms/step - loss: 1.8720 - mae: 1.8720 - mse: 8.5471 - val_loss: 1.6172 - val_mae: 1.6172 - val_mse: 6.4743\n",
            "Epoch 114/300\n",
            "10/10 [==============================] - 0s 4ms/step - loss: 1.8719 - mae: 1.8719 - mse: 8.5490 - val_loss: 1.6176 - val_mae: 1.6176 - val_mse: 6.4762\n",
            "Epoch 115/300\n",
            "10/10 [==============================] - 0s 6ms/step - loss: 1.8717 - mae: 1.8717 - mse: 8.5524 - val_loss: 1.6192 - val_mae: 1.6192 - val_mse: 6.4828\n",
            "Epoch 116/300\n",
            "10/10 [==============================] - 0s 4ms/step - loss: 1.8715 - mae: 1.8715 - mse: 8.5575 - val_loss: 1.6204 - val_mae: 1.6204 - val_mse: 6.4879\n",
            "Epoch 117/300\n",
            "10/10 [==============================] - 0s 5ms/step - loss: 1.8713 - mae: 1.8713 - mse: 8.5612 - val_loss: 1.6215 - val_mae: 1.6215 - val_mse: 6.4923\n",
            "Epoch 118/300\n",
            "10/10 [==============================] - 0s 4ms/step - loss: 1.8714 - mae: 1.8714 - mse: 8.5644 - val_loss: 1.6217 - val_mae: 1.6217 - val_mse: 6.4928\n",
            "Epoch 119/300\n",
            "10/10 [==============================] - 0s 4ms/step - loss: 1.8712 - mae: 1.8712 - mse: 8.5626 - val_loss: 1.6208 - val_mae: 1.6208 - val_mse: 6.4890\n",
            "Epoch 120/300\n",
            "10/10 [==============================] - 0s 4ms/step - loss: 1.8712 - mae: 1.8712 - mse: 8.5600 - val_loss: 1.6206 - val_mae: 1.6206 - val_mse: 6.4878\n",
            "Epoch 121/300\n",
            "10/10 [==============================] - 0s 4ms/step - loss: 1.8713 - mae: 1.8713 - mse: 8.5615 - val_loss: 1.6216 - val_mae: 1.6216 - val_mse: 6.4918\n",
            "Epoch 122/300\n",
            "10/10 [==============================] - 0s 4ms/step - loss: 1.8712 - mae: 1.8712 - mse: 8.5628 - val_loss: 1.6210 - val_mae: 1.6210 - val_mse: 6.4891\n",
            "Epoch 123/300\n",
            "10/10 [==============================] - 0s 4ms/step - loss: 1.8712 - mae: 1.8712 - mse: 8.5600 - val_loss: 1.6203 - val_mae: 1.6203 - val_mse: 6.4855\n",
            "Epoch 124/300\n",
            "10/10 [==============================] - 0s 4ms/step - loss: 1.8712 - mae: 1.8712 - mse: 8.5607 - val_loss: 1.6211 - val_mae: 1.6211 - val_mse: 6.4888\n",
            "Epoch 125/300\n",
            "10/10 [==============================] - 0s 4ms/step - loss: 1.8712 - mae: 1.8712 - mse: 8.5586 - val_loss: 1.6203 - val_mae: 1.6203 - val_mse: 6.4853\n",
            "Epoch 126/300\n",
            "10/10 [==============================] - 0s 4ms/step - loss: 1.8710 - mae: 1.8710 - mse: 8.5591 - val_loss: 1.6209 - val_mae: 1.6209 - val_mse: 6.4877\n",
            "Epoch 127/300\n",
            "10/10 [==============================] - 0s 4ms/step - loss: 1.8709 - mae: 1.8709 - mse: 8.5598 - val_loss: 1.6206 - val_mae: 1.6206 - val_mse: 6.4861\n",
            "Epoch 128/300\n",
            "10/10 [==============================] - 0s 5ms/step - loss: 1.8709 - mae: 1.8709 - mse: 8.5585 - val_loss: 1.6204 - val_mae: 1.6204 - val_mse: 6.4849\n",
            "Epoch 129/300\n",
            "10/10 [==============================] - 0s 5ms/step - loss: 1.8709 - mae: 1.8709 - mse: 8.5579 - val_loss: 1.6206 - val_mae: 1.6206 - val_mse: 6.4856\n",
            "Epoch 130/300\n",
            "10/10 [==============================] - 0s 4ms/step - loss: 1.8708 - mae: 1.8708 - mse: 8.5586 - val_loss: 1.6211 - val_mae: 1.6211 - val_mse: 6.4871\n",
            "Epoch 131/300\n",
            "10/10 [==============================] - 0s 4ms/step - loss: 1.8710 - mae: 1.8710 - mse: 8.5609 - val_loss: 1.6212 - val_mae: 1.6212 - val_mse: 6.4875\n",
            "Epoch 132/300\n",
            "10/10 [==============================] - 0s 4ms/step - loss: 1.8710 - mae: 1.8710 - mse: 8.5572 - val_loss: 1.6200 - val_mae: 1.6200 - val_mse: 6.4820\n",
            "Epoch 133/300\n",
            "10/10 [==============================] - 0s 5ms/step - loss: 1.8708 - mae: 1.8708 - mse: 8.5567 - val_loss: 1.6208 - val_mae: 1.6208 - val_mse: 6.4853\n",
            "Epoch 134/300\n",
            "10/10 [==============================] - 0s 4ms/step - loss: 1.8708 - mae: 1.8708 - mse: 8.5554 - val_loss: 1.6198 - val_mae: 1.6198 - val_mse: 6.4806\n",
            "Epoch 135/300\n",
            "10/10 [==============================] - 0s 5ms/step - loss: 1.8707 - mae: 1.8707 - mse: 8.5554 - val_loss: 1.6208 - val_mae: 1.6208 - val_mse: 6.4847\n",
            "Epoch 136/300\n",
            "10/10 [==============================] - 0s 3ms/step - loss: 1.8707 - mae: 1.8707 - mse: 8.5577 - val_loss: 1.6201 - val_mae: 1.6201 - val_mse: 6.4814\n",
            "Epoch 137/300\n",
            "10/10 [==============================] - 0s 5ms/step - loss: 1.8706 - mae: 1.8706 - mse: 8.5543 - val_loss: 1.6204 - val_mae: 1.6204 - val_mse: 6.4822\n",
            "Epoch 138/300\n",
            "10/10 [==============================] - 0s 5ms/step - loss: 1.8705 - mae: 1.8705 - mse: 8.5556 - val_loss: 1.6205 - val_mae: 1.6205 - val_mse: 6.4824\n",
            "Epoch 139/300\n",
            "10/10 [==============================] - 0s 6ms/step - loss: 1.8705 - mae: 1.8705 - mse: 8.5557 - val_loss: 1.6201 - val_mae: 1.6201 - val_mse: 6.4806\n",
            "Epoch 140/300\n",
            "10/10 [==============================] - 0s 4ms/step - loss: 1.8706 - mae: 1.8706 - mse: 8.5514 - val_loss: 1.6192 - val_mae: 1.6192 - val_mse: 6.4762\n",
            "Epoch 141/300\n",
            "10/10 [==============================] - 0s 4ms/step - loss: 1.8705 - mae: 1.8705 - mse: 8.5506 - val_loss: 1.6201 - val_mae: 1.6201 - val_mse: 6.4797\n",
            "Epoch 142/300\n",
            "10/10 [==============================] - 0s 4ms/step - loss: 1.8704 - mae: 1.8704 - mse: 8.5531 - val_loss: 1.6204 - val_mae: 1.6204 - val_mse: 6.4809\n",
            "Epoch 143/300\n",
            "10/10 [==============================] - 0s 4ms/step - loss: 1.8705 - mae: 1.8705 - mse: 8.5575 - val_loss: 1.6217 - val_mae: 1.6217 - val_mse: 6.4857\n",
            "Epoch 144/300\n",
            "10/10 [==============================] - 0s 5ms/step - loss: 1.8704 - mae: 1.8704 - mse: 8.5566 - val_loss: 1.6209 - val_mae: 1.6209 - val_mse: 6.4823\n",
            "Epoch 145/300\n",
            "10/10 [==============================] - 0s 4ms/step - loss: 1.8705 - mae: 1.8705 - mse: 8.5521 - val_loss: 1.6195 - val_mae: 1.6195 - val_mse: 6.4759\n",
            "Epoch 146/300\n",
            "10/10 [==============================] - 0s 4ms/step - loss: 1.8703 - mae: 1.8703 - mse: 8.5534 - val_loss: 1.6206 - val_mae: 1.6206 - val_mse: 6.4806\n",
            "Epoch 147/300\n",
            "10/10 [==============================] - 0s 5ms/step - loss: 1.8702 - mae: 1.8702 - mse: 8.5543 - val_loss: 1.6207 - val_mae: 1.6207 - val_mse: 6.4807\n",
            "Epoch 148/300\n",
            "10/10 [==============================] - 0s 5ms/step - loss: 1.8701 - mae: 1.8701 - mse: 8.5519 - val_loss: 1.6198 - val_mae: 1.6198 - val_mse: 6.4763\n",
            "Epoch 149/300\n",
            "10/10 [==============================] - 0s 4ms/step - loss: 1.8701 - mae: 1.8701 - mse: 8.5504 - val_loss: 1.6202 - val_mae: 1.6202 - val_mse: 6.4781\n",
            "Epoch 150/300\n",
            "10/10 [==============================] - 0s 4ms/step - loss: 1.8701 - mae: 1.8701 - mse: 8.5531 - val_loss: 1.6202 - val_mae: 1.6202 - val_mse: 6.4777\n",
            "Epoch 151/300\n",
            "10/10 [==============================] - 0s 5ms/step - loss: 1.8700 - mae: 1.8700 - mse: 8.5493 - val_loss: 1.6195 - val_mae: 1.6195 - val_mse: 6.4743\n",
            "Epoch 152/300\n",
            "10/10 [==============================] - 0s 5ms/step - loss: 1.8700 - mae: 1.8700 - mse: 8.5495 - val_loss: 1.6203 - val_mae: 1.6203 - val_mse: 6.4775\n",
            "Epoch 153/300\n",
            "10/10 [==============================] - 0s 6ms/step - loss: 1.8699 - mae: 1.8699 - mse: 8.5508 - val_loss: 1.6200 - val_mae: 1.6200 - val_mse: 6.4757\n",
            "Epoch 154/300\n",
            "10/10 [==============================] - 0s 5ms/step - loss: 1.8698 - mae: 1.8698 - mse: 8.5495 - val_loss: 1.6198 - val_mae: 1.6198 - val_mse: 6.4745\n",
            "Epoch 155/300\n",
            "10/10 [==============================] - 0s 4ms/step - loss: 1.8701 - mae: 1.8701 - mse: 8.5518 - val_loss: 1.6208 - val_mae: 1.6208 - val_mse: 6.4782\n",
            "Epoch 156/300\n",
            "10/10 [==============================] - 0s 4ms/step - loss: 1.8697 - mae: 1.8697 - mse: 8.5496 - val_loss: 1.6196 - val_mae: 1.6196 - val_mse: 6.4731\n",
            "Epoch 157/300\n",
            "10/10 [==============================] - 0s 4ms/step - loss: 1.8698 - mae: 1.8698 - mse: 8.5460 - val_loss: 1.6192 - val_mae: 1.6192 - val_mse: 6.4709\n",
            "Epoch 158/300\n",
            "10/10 [==============================] - 0s 4ms/step - loss: 1.8697 - mae: 1.8697 - mse: 8.5456 - val_loss: 1.6195 - val_mae: 1.6195 - val_mse: 6.4722\n",
            "Epoch 159/300\n",
            "10/10 [==============================] - 0s 4ms/step - loss: 1.8696 - mae: 1.8696 - mse: 8.5469 - val_loss: 1.6200 - val_mae: 1.6200 - val_mse: 6.4738\n",
            "Epoch 160/300\n",
            "10/10 [==============================] - 0s 5ms/step - loss: 1.8696 - mae: 1.8696 - mse: 8.5490 - val_loss: 1.6205 - val_mae: 1.6205 - val_mse: 6.4757\n",
            "Epoch 161/300\n",
            "10/10 [==============================] - 0s 5ms/step - loss: 1.8695 - mae: 1.8695 - mse: 8.5477 - val_loss: 1.6196 - val_mae: 1.6196 - val_mse: 6.4713\n",
            "Epoch 162/300\n",
            "10/10 [==============================] - 0s 5ms/step - loss: 1.8696 - mae: 1.8696 - mse: 8.5443 - val_loss: 1.6193 - val_mae: 1.6193 - val_mse: 6.4696\n",
            "Epoch 163/300\n",
            "10/10 [==============================] - 0s 5ms/step - loss: 1.8696 - mae: 1.8696 - mse: 8.5462 - val_loss: 1.6193 - val_mae: 1.6193 - val_mse: 6.4695\n",
            "Epoch 164/300\n",
            "10/10 [==============================] - 0s 4ms/step - loss: 1.8694 - mae: 1.8694 - mse: 8.5440 - val_loss: 1.6195 - val_mae: 1.6195 - val_mse: 6.4702\n",
            "Epoch 165/300\n",
            "10/10 [==============================] - 0s 4ms/step - loss: 1.8696 - mae: 1.8696 - mse: 8.5483 - val_loss: 1.6207 - val_mae: 1.6207 - val_mse: 6.4747\n",
            "Epoch 166/300\n",
            "10/10 [==============================] - 0s 5ms/step - loss: 1.8693 - mae: 1.8693 - mse: 8.5469 - val_loss: 1.6193 - val_mae: 1.6193 - val_mse: 6.4686\n",
            "Epoch 167/300\n",
            "10/10 [==============================] - 0s 4ms/step - loss: 1.8693 - mae: 1.8693 - mse: 8.5441 - val_loss: 1.6195 - val_mae: 1.6195 - val_mse: 6.4693\n",
            "Epoch 168/300\n",
            "10/10 [==============================] - 0s 4ms/step - loss: 1.8694 - mae: 1.8694 - mse: 8.5470 - val_loss: 1.6205 - val_mae: 1.6205 - val_mse: 6.4730\n",
            "Epoch 169/300\n",
            "10/10 [==============================] - 0s 5ms/step - loss: 1.8691 - mae: 1.8691 - mse: 8.5455 - val_loss: 1.6192 - val_mae: 1.6192 - val_mse: 6.4672\n",
            "Epoch 170/300\n",
            "10/10 [==============================] - 0s 4ms/step - loss: 1.8693 - mae: 1.8693 - mse: 8.5421 - val_loss: 1.6193 - val_mae: 1.6193 - val_mse: 6.4673\n",
            "Epoch 171/300\n",
            "10/10 [==============================] - 0s 4ms/step - loss: 1.8691 - mae: 1.8691 - mse: 8.5414 - val_loss: 1.6192 - val_mae: 1.6192 - val_mse: 6.4662\n",
            "Epoch 172/300\n",
            "10/10 [==============================] - 0s 4ms/step - loss: 1.8691 - mae: 1.8691 - mse: 8.5429 - val_loss: 1.6195 - val_mae: 1.6195 - val_mse: 6.4676\n",
            "Epoch 173/300\n",
            "10/10 [==============================] - 0s 5ms/step - loss: 1.8690 - mae: 1.8690 - mse: 8.5425 - val_loss: 1.6194 - val_mae: 1.6194 - val_mse: 6.4666\n",
            "Epoch 174/300\n",
            "10/10 [==============================] - 0s 4ms/step - loss: 1.8692 - mae: 1.8692 - mse: 8.5453 - val_loss: 1.6203 - val_mae: 1.6203 - val_mse: 6.4702\n",
            "Epoch 175/300\n",
            "10/10 [==============================] - 0s 4ms/step - loss: 1.8690 - mae: 1.8690 - mse: 8.5420 - val_loss: 1.6188 - val_mae: 1.6188 - val_mse: 6.4631\n",
            "Epoch 176/300\n",
            "10/10 [==============================] - 0s 5ms/step - loss: 1.8689 - mae: 1.8689 - mse: 8.5398 - val_loss: 1.6194 - val_mae: 1.6194 - val_mse: 6.4655\n",
            "Epoch 177/300\n",
            "10/10 [==============================] - 0s 4ms/step - loss: 1.8689 - mae: 1.8689 - mse: 8.5429 - val_loss: 1.6197 - val_mae: 1.6197 - val_mse: 6.4664\n",
            "Epoch 178/300\n",
            "10/10 [==============================] - 0s 5ms/step - loss: 1.8687 - mae: 1.8687 - mse: 8.5392 - val_loss: 1.6186 - val_mae: 1.6186 - val_mse: 6.4612\n",
            "Epoch 179/300\n",
            "10/10 [==============================] - 0s 5ms/step - loss: 1.8688 - mae: 1.8688 - mse: 8.5366 - val_loss: 1.6185 - val_mae: 1.6185 - val_mse: 6.4608\n",
            "Epoch 180/300\n",
            "10/10 [==============================] - 0s 7ms/step - loss: 1.8686 - mae: 1.8686 - mse: 8.5381 - val_loss: 1.6195 - val_mae: 1.6195 - val_mse: 6.4645\n",
            "Epoch 181/300\n",
            "10/10 [==============================] - 0s 5ms/step - loss: 1.8687 - mae: 1.8687 - mse: 8.5410 - val_loss: 1.6195 - val_mae: 1.6195 - val_mse: 6.4642\n",
            "Epoch 182/300\n",
            "10/10 [==============================] - 0s 4ms/step - loss: 1.8687 - mae: 1.8687 - mse: 8.5381 - val_loss: 1.6184 - val_mae: 1.6184 - val_mse: 6.4590\n",
            "Epoch 183/300\n",
            "10/10 [==============================] - 0s 4ms/step - loss: 1.8686 - mae: 1.8686 - mse: 8.5374 - val_loss: 1.6196 - val_mae: 1.6196 - val_mse: 6.4638\n",
            "Epoch 184/300\n",
            "10/10 [==============================] - 0s 4ms/step - loss: 1.8685 - mae: 1.8685 - mse: 8.5377 - val_loss: 1.6191 - val_mae: 1.6191 - val_mse: 6.4613\n",
            "Epoch 185/300\n",
            "10/10 [==============================] - 0s 4ms/step - loss: 1.8685 - mae: 1.8685 - mse: 8.5391 - val_loss: 1.6191 - val_mae: 1.6191 - val_mse: 6.4611\n",
            "Epoch 186/300\n",
            "10/10 [==============================] - 0s 6ms/step - loss: 1.8684 - mae: 1.8684 - mse: 8.5368 - val_loss: 1.6195 - val_mae: 1.6195 - val_mse: 6.4623\n",
            "Epoch 187/300\n",
            "10/10 [==============================] - 0s 4ms/step - loss: 1.8683 - mae: 1.8683 - mse: 8.5368 - val_loss: 1.6189 - val_mae: 1.6189 - val_mse: 6.4597\n",
            "Epoch 188/300\n",
            "10/10 [==============================] - 0s 5ms/step - loss: 1.8683 - mae: 1.8683 - mse: 8.5365 - val_loss: 1.6190 - val_mae: 1.6190 - val_mse: 6.4599\n",
            "Epoch 189/300\n",
            "10/10 [==============================] - 0s 4ms/step - loss: 1.8682 - mae: 1.8682 - mse: 8.5359 - val_loss: 1.6191 - val_mae: 1.6191 - val_mse: 6.4598\n",
            "Epoch 190/300\n",
            "10/10 [==============================] - 0s 5ms/step - loss: 1.8686 - mae: 1.8686 - mse: 8.5328 - val_loss: 1.6180 - val_mae: 1.6180 - val_mse: 6.4543\n",
            "Epoch 191/300\n",
            "10/10 [==============================] - 0s 4ms/step - loss: 1.8682 - mae: 1.8682 - mse: 8.5346 - val_loss: 1.6192 - val_mae: 1.6192 - val_mse: 6.4593\n",
            "Epoch 192/300\n",
            "10/10 [==============================] - 0s 7ms/step - loss: 1.8680 - mae: 1.8680 - mse: 8.5356 - val_loss: 1.6188 - val_mae: 1.6188 - val_mse: 6.4573\n",
            "Epoch 193/300\n",
            "10/10 [==============================] - 0s 4ms/step - loss: 1.8680 - mae: 1.8680 - mse: 8.5338 - val_loss: 1.6182 - val_mae: 1.6182 - val_mse: 6.4544\n",
            "Epoch 194/300\n",
            "10/10 [==============================] - 0s 5ms/step - loss: 1.8681 - mae: 1.8681 - mse: 8.5303 - val_loss: 1.6175 - val_mae: 1.6175 - val_mse: 6.4506\n",
            "Epoch 195/300\n",
            "10/10 [==============================] - 0s 4ms/step - loss: 1.8681 - mae: 1.8681 - mse: 8.5330 - val_loss: 1.6193 - val_mae: 1.6193 - val_mse: 6.4581\n",
            "Epoch 196/300\n",
            "10/10 [==============================] - 0s 4ms/step - loss: 1.8679 - mae: 1.8679 - mse: 8.5324 - val_loss: 1.6176 - val_mae: 1.6176 - val_mse: 6.4506\n",
            "Epoch 197/300\n",
            "10/10 [==============================] - 0s 6ms/step - loss: 1.8678 - mae: 1.8678 - mse: 8.5284 - val_loss: 1.6183 - val_mae: 1.6183 - val_mse: 6.4532\n",
            "Epoch 198/300\n",
            "10/10 [==============================] - 0s 4ms/step - loss: 1.8677 - mae: 1.8677 - mse: 8.5313 - val_loss: 1.6185 - val_mae: 1.6185 - val_mse: 6.4539\n",
            "Epoch 199/300\n",
            "10/10 [==============================] - 0s 4ms/step - loss: 1.8680 - mae: 1.8680 - mse: 8.5349 - val_loss: 1.6204 - val_mae: 1.6204 - val_mse: 6.4609\n",
            "Epoch 200/300\n",
            "10/10 [==============================] - 0s 4ms/step - loss: 1.8676 - mae: 1.8676 - mse: 8.5339 - val_loss: 1.6186 - val_mae: 1.6186 - val_mse: 6.4532\n",
            "Epoch 201/300\n",
            "10/10 [==============================] - 0s 6ms/step - loss: 1.8678 - mae: 1.8678 - mse: 8.5266 - val_loss: 1.6170 - val_mae: 1.6170 - val_mse: 6.4459\n",
            "Epoch 202/300\n",
            "10/10 [==============================] - 0s 6ms/step - loss: 1.8676 - mae: 1.8676 - mse: 8.5257 - val_loss: 1.6179 - val_mae: 1.6179 - val_mse: 6.4497\n",
            "Epoch 203/300\n",
            "10/10 [==============================] - 0s 4ms/step - loss: 1.8677 - mae: 1.8677 - mse: 8.5319 - val_loss: 1.6192 - val_mae: 1.6192 - val_mse: 6.4548\n",
            "Epoch 204/300\n",
            "10/10 [==============================] - 0s 4ms/step - loss: 1.8676 - mae: 1.8676 - mse: 8.5280 - val_loss: 1.6172 - val_mae: 1.6172 - val_mse: 6.4458\n",
            "Epoch 205/300\n",
            "10/10 [==============================] - 0s 4ms/step - loss: 1.8678 - mae: 1.8678 - mse: 8.5281 - val_loss: 1.6189 - val_mae: 1.6189 - val_mse: 6.4527\n",
            "Epoch 206/300\n",
            "10/10 [==============================] - 0s 4ms/step - loss: 1.8672 - mae: 1.8672 - mse: 8.5273 - val_loss: 1.6176 - val_mae: 1.6176 - val_mse: 6.4468\n",
            "Epoch 207/300\n",
            "10/10 [==============================] - 0s 4ms/step - loss: 1.8674 - mae: 1.8674 - mse: 8.5236 - val_loss: 1.6171 - val_mae: 1.6171 - val_mse: 6.4441\n",
            "Epoch 208/300\n",
            "10/10 [==============================] - 0s 5ms/step - loss: 1.8671 - mae: 1.8671 - mse: 8.5257 - val_loss: 1.6183 - val_mae: 1.6183 - val_mse: 6.4492\n",
            "Epoch 209/300\n",
            "10/10 [==============================] - 0s 5ms/step - loss: 1.8679 - mae: 1.8679 - mse: 8.5332 - val_loss: 1.6193 - val_mae: 1.6193 - val_mse: 6.4527\n",
            "Epoch 210/300\n",
            "10/10 [==============================] - 0s 5ms/step - loss: 1.8671 - mae: 1.8671 - mse: 8.5290 - val_loss: 1.6177 - val_mae: 1.6177 - val_mse: 6.4457\n",
            "Epoch 211/300\n",
            "10/10 [==============================] - 0s 5ms/step - loss: 1.8671 - mae: 1.8671 - mse: 8.5207 - val_loss: 1.6163 - val_mae: 1.6163 - val_mse: 6.4389\n",
            "Epoch 212/300\n",
            "10/10 [==============================] - 0s 4ms/step - loss: 1.8672 - mae: 1.8672 - mse: 8.5181 - val_loss: 1.6166 - val_mae: 1.6166 - val_mse: 6.4396\n",
            "Epoch 213/300\n",
            "10/10 [==============================] - 0s 5ms/step - loss: 1.8670 - mae: 1.8670 - mse: 8.5202 - val_loss: 1.6178 - val_mae: 1.6178 - val_mse: 6.4447\n",
            "Epoch 214/300\n",
            "10/10 [==============================] - 0s 4ms/step - loss: 1.8670 - mae: 1.8670 - mse: 8.5284 - val_loss: 1.6199 - val_mae: 1.6199 - val_mse: 6.4530\n",
            "Epoch 215/300\n",
            "10/10 [==============================] - 0s 4ms/step - loss: 1.8670 - mae: 1.8670 - mse: 8.5269 - val_loss: 1.6181 - val_mae: 1.6181 - val_mse: 6.4452\n",
            "Epoch 216/300\n",
            "10/10 [==============================] - 0s 4ms/step - loss: 1.8668 - mae: 1.8668 - mse: 8.5197 - val_loss: 1.6167 - val_mae: 1.6167 - val_mse: 6.4387\n",
            "Epoch 217/300\n",
            "10/10 [==============================] - 0s 5ms/step - loss: 1.8670 - mae: 1.8670 - mse: 8.5165 - val_loss: 1.6166 - val_mae: 1.6166 - val_mse: 6.4378\n",
            "Epoch 218/300\n",
            "10/10 [==============================] - 0s 5ms/step - loss: 1.8665 - mae: 1.8665 - mse: 8.5195 - val_loss: 1.6187 - val_mae: 1.6187 - val_mse: 6.4463\n",
            "Epoch 219/300\n",
            "10/10 [==============================] - 0s 4ms/step - loss: 1.8673 - mae: 1.8673 - mse: 8.5316 - val_loss: 1.6202 - val_mae: 1.6202 - val_mse: 6.4521\n",
            "Epoch 220/300\n",
            "10/10 [==============================] - 0s 4ms/step - loss: 1.8669 - mae: 1.8669 - mse: 8.5261 - val_loss: 1.6176 - val_mae: 1.6176 - val_mse: 6.4409\n",
            "Epoch 221/300\n",
            "10/10 [==============================] - 0s 7ms/step - loss: 1.8664 - mae: 1.8664 - mse: 8.5191 - val_loss: 1.6176 - val_mae: 1.6176 - val_mse: 6.4406\n",
            "Epoch 222/300\n",
            "10/10 [==============================] - 0s 4ms/step - loss: 1.8664 - mae: 1.8664 - mse: 8.5218 - val_loss: 1.6183 - val_mae: 1.6183 - val_mse: 6.4431\n",
            "Epoch 223/300\n",
            "10/10 [==============================] - 0s 5ms/step - loss: 1.8663 - mae: 1.8663 - mse: 8.5214 - val_loss: 1.6174 - val_mae: 1.6174 - val_mse: 6.4389\n",
            "Epoch 224/300\n",
            "10/10 [==============================] - 0s 5ms/step - loss: 1.8662 - mae: 1.8662 - mse: 8.5179 - val_loss: 1.6173 - val_mae: 1.6173 - val_mse: 6.4383\n",
            "Epoch 225/300\n",
            "10/10 [==============================] - 0s 4ms/step - loss: 1.8663 - mae: 1.8663 - mse: 8.5158 - val_loss: 1.6173 - val_mae: 1.6173 - val_mse: 6.4377\n",
            "Epoch 226/300\n",
            "10/10 [==============================] - 0s 5ms/step - loss: 1.8661 - mae: 1.8661 - mse: 8.5182 - val_loss: 1.6180 - val_mae: 1.6180 - val_mse: 6.4401\n",
            "Epoch 227/300\n",
            "10/10 [==============================] - 0s 4ms/step - loss: 1.8661 - mae: 1.8661 - mse: 8.5174 - val_loss: 1.6170 - val_mae: 1.6170 - val_mse: 6.4357\n",
            "Epoch 228/300\n",
            "10/10 [==============================] - 0s 4ms/step - loss: 1.8661 - mae: 1.8661 - mse: 8.5170 - val_loss: 1.6169 - val_mae: 1.6169 - val_mse: 6.4348\n",
            "Epoch 229/300\n",
            "10/10 [==============================] - 0s 4ms/step - loss: 1.8659 - mae: 1.8659 - mse: 8.5146 - val_loss: 1.6173 - val_mae: 1.6173 - val_mse: 6.4360\n",
            "Epoch 230/300\n",
            "10/10 [==============================] - 0s 5ms/step - loss: 1.8659 - mae: 1.8659 - mse: 8.5158 - val_loss: 1.6179 - val_mae: 1.6179 - val_mse: 6.4381\n",
            "Epoch 231/300\n",
            "10/10 [==============================] - 0s 6ms/step - loss: 1.8659 - mae: 1.8659 - mse: 8.5182 - val_loss: 1.6174 - val_mae: 1.6174 - val_mse: 6.4358\n",
            "Epoch 232/300\n",
            "10/10 [==============================] - 0s 4ms/step - loss: 1.8657 - mae: 1.8657 - mse: 8.5135 - val_loss: 1.6162 - val_mae: 1.6162 - val_mse: 6.4297\n",
            "Epoch 233/300\n",
            "10/10 [==============================] - 0s 5ms/step - loss: 1.8660 - mae: 1.8660 - mse: 8.5132 - val_loss: 1.6175 - val_mae: 1.6175 - val_mse: 6.4354\n",
            "Epoch 234/300\n",
            "10/10 [==============================] - 0s 4ms/step - loss: 1.8657 - mae: 1.8657 - mse: 8.5134 - val_loss: 1.6159 - val_mae: 1.6159 - val_mse: 6.4276\n",
            "Epoch 235/300\n",
            "10/10 [==============================] - 0s 4ms/step - loss: 1.8656 - mae: 1.8656 - mse: 8.5090 - val_loss: 1.6162 - val_mae: 1.6162 - val_mse: 6.4284\n",
            "Epoch 236/300\n",
            "10/10 [==============================] - 0s 5ms/step - loss: 1.8655 - mae: 1.8655 - mse: 8.5103 - val_loss: 1.6168 - val_mae: 1.6168 - val_mse: 6.4308\n",
            "Epoch 237/300\n",
            "10/10 [==============================] - 0s 5ms/step - loss: 1.8655 - mae: 1.8655 - mse: 8.5113 - val_loss: 1.6174 - val_mae: 1.6174 - val_mse: 6.4330\n",
            "Epoch 238/300\n",
            "10/10 [==============================] - 0s 5ms/step - loss: 1.8654 - mae: 1.8654 - mse: 8.5125 - val_loss: 1.6179 - val_mae: 1.6179 - val_mse: 6.4347\n",
            "Epoch 239/300\n",
            "10/10 [==============================] - 0s 4ms/step - loss: 1.8657 - mae: 1.8657 - mse: 8.5188 - val_loss: 1.6193 - val_mae: 1.6193 - val_mse: 6.4399\n",
            "Epoch 240/300\n",
            "10/10 [==============================] - 0s 4ms/step - loss: 1.8655 - mae: 1.8655 - mse: 8.5147 - val_loss: 1.6167 - val_mae: 1.6167 - val_mse: 6.4288\n",
            "Epoch 241/300\n",
            "10/10 [==============================] - 0s 4ms/step - loss: 1.8654 - mae: 1.8654 - mse: 8.5073 - val_loss: 1.6156 - val_mae: 1.6156 - val_mse: 6.4235\n",
            "Epoch 242/300\n",
            "10/10 [==============================] - 0s 5ms/step - loss: 1.8655 - mae: 1.8655 - mse: 8.5114 - val_loss: 1.6180 - val_mae: 1.6180 - val_mse: 6.4332\n",
            "Epoch 243/300\n",
            "10/10 [==============================] - 0s 4ms/step - loss: 1.8651 - mae: 1.8651 - mse: 8.5094 - val_loss: 1.6157 - val_mae: 1.6157 - val_mse: 6.4230\n",
            "Epoch 244/300\n",
            "10/10 [==============================] - 0s 4ms/step - loss: 1.8651 - mae: 1.8651 - mse: 8.5051 - val_loss: 1.6162 - val_mae: 1.6162 - val_mse: 6.4248\n",
            "Epoch 245/300\n",
            "10/10 [==============================] - 0s 4ms/step - loss: 1.8649 - mae: 1.8649 - mse: 8.5066 - val_loss: 1.6167 - val_mae: 1.6167 - val_mse: 6.4266\n",
            "Epoch 246/300\n",
            "10/10 [==============================] - 0s 4ms/step - loss: 1.8649 - mae: 1.8649 - mse: 8.5089 - val_loss: 1.6168 - val_mae: 1.6168 - val_mse: 6.4263\n",
            "Epoch 247/300\n",
            "10/10 [==============================] - 0s 4ms/step - loss: 1.8652 - mae: 1.8652 - mse: 8.5120 - val_loss: 1.6173 - val_mae: 1.6173 - val_mse: 6.4281\n",
            "Epoch 248/300\n",
            "10/10 [==============================] - 0s 5ms/step - loss: 1.8646 - mae: 1.8646 - mse: 8.5049 - val_loss: 1.6160 - val_mae: 1.6160 - val_mse: 6.4219\n",
            "Epoch 249/300\n",
            "10/10 [==============================] - 0s 4ms/step - loss: 1.8647 - mae: 1.8647 - mse: 8.5021 - val_loss: 1.6157 - val_mae: 1.6157 - val_mse: 6.4201\n",
            "Epoch 250/300\n",
            "10/10 [==============================] - 0s 5ms/step - loss: 1.8647 - mae: 1.8647 - mse: 8.5046 - val_loss: 1.6173 - val_mae: 1.6173 - val_mse: 6.4267\n",
            "Epoch 251/300\n",
            "10/10 [==============================] - 0s 6ms/step - loss: 1.8646 - mae: 1.8646 - mse: 8.5075 - val_loss: 1.6162 - val_mae: 1.6162 - val_mse: 6.4214\n",
            "Epoch 252/300\n",
            "10/10 [==============================] - 0s 4ms/step - loss: 1.8645 - mae: 1.8645 - mse: 8.5045 - val_loss: 1.6162 - val_mae: 1.6162 - val_mse: 6.4212\n",
            "Epoch 253/300\n",
            "10/10 [==============================] - 0s 4ms/step - loss: 1.8644 - mae: 1.8644 - mse: 8.5024 - val_loss: 1.6162 - val_mae: 1.6162 - val_mse: 6.4206\n",
            "Epoch 254/300\n",
            "10/10 [==============================] - 0s 4ms/step - loss: 1.8642 - mae: 1.8642 - mse: 8.5033 - val_loss: 1.6169 - val_mae: 1.6169 - val_mse: 6.4232\n",
            "Epoch 255/300\n",
            "10/10 [==============================] - 0s 4ms/step - loss: 1.8643 - mae: 1.8643 - mse: 8.5038 - val_loss: 1.6165 - val_mae: 1.6165 - val_mse: 6.4210\n",
            "Epoch 256/300\n",
            "10/10 [==============================] - 0s 5ms/step - loss: 1.8643 - mae: 1.8643 - mse: 8.5014 - val_loss: 1.6159 - val_mae: 1.6159 - val_mse: 6.4183\n",
            "Epoch 257/300\n",
            "10/10 [==============================] - 0s 4ms/step - loss: 1.8642 - mae: 1.8642 - mse: 8.5004 - val_loss: 1.6158 - val_mae: 1.6158 - val_mse: 6.4172\n",
            "Epoch 258/300\n",
            "10/10 [==============================] - 0s 5ms/step - loss: 1.8640 - mae: 1.8640 - mse: 8.4995 - val_loss: 1.6170 - val_mae: 1.6170 - val_mse: 6.4216\n",
            "Epoch 259/300\n",
            "10/10 [==============================] - 0s 5ms/step - loss: 1.8643 - mae: 1.8643 - mse: 8.5085 - val_loss: 1.6187 - val_mae: 1.6187 - val_mse: 6.4283\n",
            "Epoch 260/300\n",
            "10/10 [==============================] - 0s 4ms/step - loss: 1.8646 - mae: 1.8646 - mse: 8.5065 - val_loss: 1.6157 - val_mae: 1.6157 - val_mse: 6.4155\n",
            "Epoch 261/300\n",
            "10/10 [==============================] - 0s 4ms/step - loss: 1.8639 - mae: 1.8639 - mse: 8.5003 - val_loss: 1.6161 - val_mae: 1.6161 - val_mse: 6.4168\n",
            "Epoch 262/300\n",
            "10/10 [==============================] - 0s 5ms/step - loss: 1.8638 - mae: 1.8638 - mse: 8.4990 - val_loss: 1.6158 - val_mae: 1.6158 - val_mse: 6.4148\n",
            "Epoch 263/300\n",
            "10/10 [==============================] - 0s 4ms/step - loss: 1.8637 - mae: 1.8637 - mse: 8.4980 - val_loss: 1.6169 - val_mae: 1.6169 - val_mse: 6.4190\n",
            "Epoch 264/300\n",
            "10/10 [==============================] - 0s 4ms/step - loss: 1.8639 - mae: 1.8639 - mse: 8.5043 - val_loss: 1.6169 - val_mae: 1.6169 - val_mse: 6.4186\n",
            "Epoch 265/300\n",
            "10/10 [==============================] - 0s 6ms/step - loss: 1.8637 - mae: 1.8637 - mse: 8.4975 - val_loss: 1.6146 - val_mae: 1.6146 - val_mse: 6.4079\n",
            "Epoch 266/300\n",
            "10/10 [==============================] - 0s 5ms/step - loss: 1.8640 - mae: 1.8640 - mse: 8.4891 - val_loss: 1.6137 - val_mae: 1.6137 - val_mse: 6.4034\n",
            "Epoch 267/300\n",
            "10/10 [==============================] - 0s 4ms/step - loss: 1.8636 - mae: 1.8636 - mse: 8.4921 - val_loss: 1.6157 - val_mae: 1.6157 - val_mse: 6.4120\n",
            "Epoch 268/300\n",
            "10/10 [==============================] - 0s 5ms/step - loss: 1.8633 - mae: 1.8633 - mse: 8.4961 - val_loss: 1.6158 - val_mae: 1.6158 - val_mse: 6.4119\n",
            "Epoch 269/300\n",
            "10/10 [==============================] - 0s 5ms/step - loss: 1.8634 - mae: 1.8634 - mse: 8.4952 - val_loss: 1.6153 - val_mae: 1.6153 - val_mse: 6.4095\n",
            "Epoch 270/300\n",
            "10/10 [==============================] - 0s 5ms/step - loss: 1.8631 - mae: 1.8631 - mse: 8.4930 - val_loss: 1.6158 - val_mae: 1.6158 - val_mse: 6.4113\n",
            "Epoch 271/300\n",
            "10/10 [==============================] - 0s 4ms/step - loss: 1.8636 - mae: 1.8636 - mse: 8.5005 - val_loss: 1.6169 - val_mae: 1.6169 - val_mse: 6.4152\n",
            "Epoch 272/300\n",
            "10/10 [==============================] - 0s 4ms/step - loss: 1.8630 - mae: 1.8630 - mse: 8.4960 - val_loss: 1.6150 - val_mae: 1.6150 - val_mse: 6.4064\n",
            "Epoch 273/300\n",
            "10/10 [==============================] - 0s 4ms/step - loss: 1.8631 - mae: 1.8631 - mse: 8.4887 - val_loss: 1.6140 - val_mae: 1.6140 - val_mse: 6.4014\n",
            "Epoch 274/300\n",
            "10/10 [==============================] - 0s 5ms/step - loss: 1.8631 - mae: 1.8631 - mse: 8.4885 - val_loss: 1.6148 - val_mae: 1.6148 - val_mse: 6.4049\n",
            "Epoch 275/300\n",
            "10/10 [==============================] - 0s 4ms/step - loss: 1.8628 - mae: 1.8628 - mse: 8.4915 - val_loss: 1.6158 - val_mae: 1.6158 - val_mse: 6.4085\n",
            "Epoch 276/300\n",
            "10/10 [==============================] - 0s 4ms/step - loss: 1.8628 - mae: 1.8628 - mse: 8.4893 - val_loss: 1.6145 - val_mae: 1.6145 - val_mse: 6.4024\n",
            "Epoch 277/300\n",
            "10/10 [==============================] - 0s 4ms/step - loss: 1.8627 - mae: 1.8627 - mse: 8.4888 - val_loss: 1.6155 - val_mae: 1.6155 - val_mse: 6.4065\n",
            "Epoch 278/300\n",
            "10/10 [==============================] - 0s 5ms/step - loss: 1.8626 - mae: 1.8626 - mse: 8.4898 - val_loss: 1.6144 - val_mae: 1.6144 - val_mse: 6.4012\n",
            "Epoch 279/300\n",
            "10/10 [==============================] - 0s 5ms/step - loss: 1.8626 - mae: 1.8626 - mse: 8.4859 - val_loss: 1.6146 - val_mae: 1.6146 - val_mse: 6.4016\n",
            "Epoch 280/300\n",
            "10/10 [==============================] - 0s 4ms/step - loss: 1.8631 - mae: 1.8631 - mse: 8.4857 - val_loss: 1.6140 - val_mae: 1.6140 - val_mse: 6.3982\n",
            "Epoch 281/300\n",
            "10/10 [==============================] - 0s 5ms/step - loss: 1.8623 - mae: 1.8623 - mse: 8.4864 - val_loss: 1.6160 - val_mae: 1.6160 - val_mse: 6.4066\n",
            "Epoch 282/300\n",
            "10/10 [==============================] - 0s 5ms/step - loss: 1.8632 - mae: 1.8632 - mse: 8.4975 - val_loss: 1.6171 - val_mae: 1.6171 - val_mse: 6.4107\n",
            "Epoch 283/300\n",
            "10/10 [==============================] - 0s 5ms/step - loss: 1.8624 - mae: 1.8624 - mse: 8.4901 - val_loss: 1.6149 - val_mae: 1.6149 - val_mse: 6.4010\n",
            "Epoch 284/300\n",
            "10/10 [==============================] - 0s 5ms/step - loss: 1.8625 - mae: 1.8625 - mse: 8.4838 - val_loss: 1.6144 - val_mae: 1.6144 - val_mse: 6.3982\n",
            "Epoch 285/300\n",
            "10/10 [==============================] - 0s 5ms/step - loss: 1.8621 - mae: 1.8621 - mse: 8.4847 - val_loss: 1.6148 - val_mae: 1.6148 - val_mse: 6.3997\n",
            "Epoch 286/300\n",
            "10/10 [==============================] - 0s 5ms/step - loss: 1.8621 - mae: 1.8621 - mse: 8.4845 - val_loss: 1.6151 - val_mae: 1.6151 - val_mse: 6.4002\n",
            "Epoch 287/300\n",
            "10/10 [==============================] - 0s 4ms/step - loss: 1.8619 - mae: 1.8619 - mse: 8.4843 - val_loss: 1.6147 - val_mae: 1.6147 - val_mse: 6.3980\n",
            "Epoch 288/300\n",
            "10/10 [==============================] - 0s 6ms/step - loss: 1.8619 - mae: 1.8619 - mse: 8.4821 - val_loss: 1.6146 - val_mae: 1.6146 - val_mse: 6.3973\n",
            "Epoch 289/300\n",
            "10/10 [==============================] - 0s 5ms/step - loss: 1.8619 - mae: 1.8619 - mse: 8.4856 - val_loss: 1.6161 - val_mae: 1.6161 - val_mse: 6.4027\n",
            "Epoch 290/300\n",
            "10/10 [==============================] - 0s 5ms/step - loss: 1.8621 - mae: 1.8621 - mse: 8.4843 - val_loss: 1.6144 - val_mae: 1.6144 - val_mse: 6.3951\n",
            "Epoch 291/300\n",
            "10/10 [==============================] - 0s 4ms/step - loss: 1.8617 - mae: 1.8617 - mse: 8.4804 - val_loss: 1.6144 - val_mae: 1.6144 - val_mse: 6.3949\n",
            "Epoch 292/300\n",
            "10/10 [==============================] - 0s 5ms/step - loss: 1.8619 - mae: 1.8619 - mse: 8.4865 - val_loss: 1.6163 - val_mae: 1.6163 - val_mse: 6.4023\n",
            "Epoch 293/300\n",
            "10/10 [==============================] - 0s 4ms/step - loss: 1.8617 - mae: 1.8617 - mse: 8.4842 - val_loss: 1.6143 - val_mae: 1.6143 - val_mse: 6.3933\n",
            "Epoch 294/300\n",
            "10/10 [==============================] - 0s 4ms/step - loss: 1.8615 - mae: 1.8615 - mse: 8.4785 - val_loss: 1.6143 - val_mae: 1.6143 - val_mse: 6.3929\n",
            "Epoch 295/300\n",
            "10/10 [==============================] - 0s 4ms/step - loss: 1.8615 - mae: 1.8615 - mse: 8.4811 - val_loss: 1.6146 - val_mae: 1.6146 - val_mse: 6.3936\n",
            "Epoch 296/300\n",
            "10/10 [==============================] - 0s 5ms/step - loss: 1.8623 - mae: 1.8623 - mse: 8.4751 - val_loss: 1.6117 - val_mae: 1.6117 - val_mse: 6.3800\n",
            "Epoch 297/300\n",
            "10/10 [==============================] - 0s 5ms/step - loss: 1.8614 - mae: 1.8614 - mse: 8.4720 - val_loss: 1.6142 - val_mae: 1.6142 - val_mse: 6.3909\n",
            "Epoch 298/300\n",
            "10/10 [==============================] - 0s 5ms/step - loss: 1.8614 - mae: 1.8614 - mse: 8.4820 - val_loss: 1.6157 - val_mae: 1.6157 - val_mse: 6.3964\n",
            "Epoch 299/300\n",
            "10/10 [==============================] - 0s 4ms/step - loss: 1.8612 - mae: 1.8612 - mse: 8.4761 - val_loss: 1.6132 - val_mae: 1.6132 - val_mse: 6.3856\n",
            "Epoch 300/300\n",
            "10/10 [==============================] - 0s 5ms/step - loss: 1.8609 - mae: 1.8609 - mse: 8.4745 - val_loss: 1.6142 - val_mae: 1.6142 - val_mse: 6.3895\n"
          ],
          "name": "stdout"
        }
      ]
    },
    {
      "cell_type": "code",
      "metadata": {
        "id": "6zYkLGS6wQyy",
        "colab": {
          "base_uri": "https://localhost:8080/"
        },
        "outputId": "76cf2019-5ec2-430e-8489-6e010d86ef47"
      },
      "source": [
        "print(history)"
      ],
      "execution_count": 26,
      "outputs": [
        {
          "output_type": "stream",
          "text": [
            "<tensorflow.python.keras.callbacks.History object at 0x7f9a2916cbd0>\n"
          ],
          "name": "stdout"
        }
      ]
    },
    {
      "cell_type": "code",
      "metadata": {
        "colab": {
          "base_uri": "https://localhost:8080/"
        },
        "id": "1lsbk_ohAu1j",
        "outputId": "611120eb-c74d-423b-c1b7-e474d23b9aa5"
      },
      "source": [
        "model.summary()"
      ],
      "execution_count": 27,
      "outputs": [
        {
          "output_type": "stream",
          "text": [
            "Model: \"sequential\"\n",
            "_________________________________________________________________\n",
            "Layer (type)                 Output Shape              Param #   \n",
            "=================================================================\n",
            "dense (Dense)                (None, 1)                 2         \n",
            "=================================================================\n",
            "Total params: 2\n",
            "Trainable params: 2\n",
            "Non-trainable params: 0\n",
            "_________________________________________________________________\n"
          ],
          "name": "stdout"
        }
      ]
    },
    {
      "cell_type": "code",
      "metadata": {
        "colab": {
          "base_uri": "https://localhost:8080/",
          "height": 1000
        },
        "id": "P6VnkPim7tH7",
        "outputId": "16a5e07e-a19f-4a1a-a836-972ec348d21c"
      },
      "source": [
        "# tempString = 'mse'\n",
        "def curvePlots(tempString):\n",
        "  plt.plot(history.history[tempString])\n",
        "  plt.plot(history.history[f'val_{tempString}'])\n",
        "  plt.xlabel('NumEpochs')\n",
        "  plt.ylabel(tempString)\n",
        "  plt.legend([tempString, f'val_{tempString}'])\n",
        "  plt.show()\n",
        "\n",
        "\n",
        "curvePlots('mse')\n",
        "curvePlots('mae')\n",
        "curvePlots('loss')"
      ],
      "execution_count": 28,
      "outputs": [
        {
          "output_type": "display_data",
          "data": {
            "image/png": "[encoded data removed]",
            "text/plain": [
              "<Figure size 576x396 with 1 Axes>"
            ]
          },
          "metadata": {
            "tags": []
          }
        },
        {
          "output_type": "display_data",
          "data": {
            "image/png": "[encoded data removed]",
            "text/plain": [
              "<Figure size 576x396 with 1 Axes>"
            ]
          },
          "metadata": {
            "tags": []
          }
        },
        {
          "output_type": "display_data",
          "data": {
            "image/png": "[encoded data removed]",
            "text/plain": [
              "<Figure size 576x396 with 1 Axes>"
            ]
          },
          "metadata": {
            "tags": []
          }
        }
      ]
    },
    {
      "cell_type": "code",
      "metadata": {
        "id": "esW0eHQbzoj4",
        "colab": {
          "base_uri": "https://localhost:8080/"
        },
        "outputId": "cb69804e-1804-43f6-8c68-0addbd92a959"
      },
      "source": [
        "model.predict([1])"
      ],
      "execution_count": 29,
      "outputs": [
        {
          "output_type": "execute_result",
          "data": {
            "text/plain": [
              "array([[1.5542483]], dtype=float32)"
            ]
          },
          "metadata": {
            "tags": []
          },
          "execution_count": 29
        }
      ]
    },
    {
      "cell_type": "code",
      "metadata": {
        "colab": {
          "base_uri": "https://localhost:8080/"
        },
        "id": "KJrLWamX8Tg-",
        "outputId": "7488a6c5-6011-4772-f47d-735fe0b61668"
      },
      "source": [
        "# testPreds = model.predict(testFeatures).flatten() #array of all prediction values\n",
        "\n",
        "#for single values\n",
        "\n",
        "print(f'Prediction for input value 1: {model.predict([1])}')\n",
        "\n",
        "\n",
        "# for a list of values\n",
        "tempListforPreds = [1,2,3,4,5]\n",
        "print(f'''\n",
        "\n",
        "input List = {tempListforPreds}\n",
        "\n",
        "\n",
        "List of Predictions:\n",
        "{model.predict(tempListforPreds)}\n",
        "\n",
        "List of Predictions (flattened out):\n",
        "{model.predict(tempListforPreds).flatten()}\n",
        "''')"
      ],
      "execution_count": 30,
      "outputs": [
        {
          "output_type": "stream",
          "text": [
            "Prediction for input value 1: [[1.5542483]]\n",
            "\n",
            "\n",
            "input List = [1, 2, 3, 4, 5]\n",
            "\n",
            "\n",
            "List of Predictions:\n",
            "[[1.5542483]\n",
            " [2.5039237]\n",
            " [3.453599 ]\n",
            " [4.403274 ]\n",
            " [5.3529496]]\n",
            "\n",
            "List of Predictions (flattened out):\n",
            "[1.5542483 2.5039237 3.453599  4.403274  5.3529496]\n",
            "\n"
          ],
          "name": "stdout"
        }
      ]
    },
    {
      "cell_type": "code",
      "metadata": {
        "id": "vJNFh6hc0K6r",
        "colab": {
          "base_uri": "https://localhost:8080/"
        },
        "outputId": "da4ebe8b-fe4d-4afc-b149-ef1d819541e3"
      },
      "source": [
        "print(testFeatures)"
      ],
      "execution_count": 31,
      "outputs": [
        {
          "output_type": "stream",
          "text": [
            "     G1\n",
            "9    14\n",
            "25    6\n",
            "28   11\n",
            "31   17\n",
            "32   17\n",
            "..   ..\n",
            "365  10\n",
            "367   7\n",
            "379  10\n",
            "381   7\n",
            "393  11\n",
            "\n",
            "[79 rows x 1 columns]\n"
          ],
          "name": "stdout"
        }
      ]
    },
    {
      "cell_type": "code",
      "metadata": {
        "id": "MniGZOu50IyN"
      },
      "source": [
        "testPreds = model.predict(testFeatures).flatten() #array of all prediction values"
      ],
      "execution_count": 32,
      "outputs": []
    },
    {
      "cell_type": "code",
      "metadata": {
        "id": "du0Orwu40Qan",
        "colab": {
          "base_uri": "https://localhost:8080/"
        },
        "outputId": "abd381ee-73e2-41b1-ac92-7cd96b552db5"
      },
      "source": [
        "print(len(testPreds))\n",
        "print(testPreds)"
      ],
      "execution_count": 33,
      "outputs": [
        {
          "output_type": "stream",
          "text": [
            "79\n",
            "[13.900027   6.3026247 11.051002  16.749052  16.749052  12.000677\n",
            " 13.900027  18.648403  18.648403   8.201976  13.900027  12.950353\n",
            "  8.201976   7.2523     9.151651  12.950353  11.051002  15.799378\n",
            "  7.2523    10.101327  14.849703  12.950353  13.900027  15.799378\n",
            "  7.2523     7.2523     8.201976  10.101327  12.000677  10.101327\n",
            " 12.000677  12.950353  10.101327   6.3026247  9.151651  12.000677\n",
            "  7.2523     8.201976  13.900027   9.151651   9.151651   7.2523\n",
            " 12.000677   6.3026247 12.950353   7.2523     7.2523    11.051002\n",
            " 12.950353  16.749052  12.000677  14.849703   9.151651  12.000677\n",
            " 14.849703  12.000677  14.849703  12.000677  14.849703  11.051002\n",
            " 12.000677   8.201976  15.799378   7.2523    15.799378  11.051002\n",
            " 15.799378  12.950353   8.201976   8.201976  12.000677  17.698729\n",
            " 12.950353  15.799378  10.101327   7.2523    10.101327   7.2523\n",
            " 11.051002 ]\n"
          ],
          "name": "stdout"
        }
      ]
    },
    {
      "cell_type": "code",
      "metadata": {
        "colab": {
          "base_uri": "https://localhost:8080/",
          "height": 361
        },
        "id": "EfP8bB_v89Wa",
        "outputId": "d365a796-ae1f-4785-e439-f813047be7dc"
      },
      "source": [
        "# prediciton plot --> how well is your model predicting across the actual labels\n",
        "\n",
        "def predPlot(labels, predictions):\n",
        "  plt.scatter(labels, predictions)\n",
        "  plt.ylabel('Predictions')\n",
        "  plt.xlabel('True Value or Labels')\n",
        "  plt.axis('equal')\n",
        "  plt.axis('square')\n",
        "  plt.xlim([0, plt.xlim()[1]])\n",
        "  plt.ylim([0, plt.ylim()[1]])\n",
        "  plt.show()\n",
        "\n",
        "predPlot(testLabels, testPreds)"
      ],
      "execution_count": 34,
      "outputs": [
        {
          "output_type": "display_data",
          "data": {
            "image/png": "[encoded data removed]",
            "text/plain": [
              "<Figure size 576x396 with 1 Axes>"
            ]
          },
          "metadata": {
            "tags": []
          }
        }
      ]
    },
    {
      "cell_type": "code",
      "metadata": {
        "colab": {
          "base_uri": "https://localhost:8080/",
          "height": 361
        },
        "id": "70608Z0o9tWL",
        "outputId": "68cf4300-4f12-441f-db4c-209dd00ad282"
      },
      "source": [
        "#error plot --> gaussian distribution \n",
        "\n",
        "def errorPlot(preds, labels, counts):\n",
        "  errors = preds - labels\n",
        "  plt.hist(errors, counts)\n",
        "  plt.xlabel('Error')\n",
        "  plt.ylabel('Counts')\n",
        "  plt.show()\n",
        "\n",
        "errorPlot(testPreds, testLabels, numEpochs)"
      ],
      "execution_count": 35,
      "outputs": [
        {
          "output_type": "display_data",
          "data": {
            "image/png": "[encoded data removed]",
            "text/plain": [
              "<Figure size 576x396 with 1 Axes>"
            ]
          },
          "metadata": {
            "tags": []
          }
        }
      ]
    },
    {
      "cell_type": "markdown",
      "metadata": {
        "id": "oshf2mUG1vPk"
      },
      "source": [
        "Note: \n",
        "\n",
        "\n",
        "Validation loss `val_loss` is a metric that tells you how much deviation from the actual label can you expect in the predicted label\n",
        "\n",
        "To optimize your predicitons -->\n",
        "\n",
        "- Hyperparameter tuning --> `numEpochs`, `optimizer`, `learning_rate`, lossFunctions"
      ]
    }
  ]
}