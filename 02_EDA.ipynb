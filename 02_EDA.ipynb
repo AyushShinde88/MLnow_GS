{
  "nbformat": 4,
  "nbformat_minor": 0,
  "metadata": {
    "colab": {
      "name": "02_EDA.ipynb",
      "provenance": [],
      "mount_file_id": "1rOusT0AgmsuU5nDM8vril_qHsOnMHtxk",
      "authorship_tag": "ABX9TyOi7IC1CCSP+Uj3ndducxQg",
      "include_colab_link": true
    },
    "kernelspec": {
      "name": "python3",
      "display_name": "Python 3"
    },
    "language_info": {
      "name": "python"
    }
  },
  "cells": [
    {
      "cell_type": "markdown",
      "metadata": {
        "id": "view-in-github",
        "colab_type": "text"
      },
      "source": [
        "<a href=\"https://colab.research.google.com/github/AyushShinde88/MLnow_GS/blob/main/02_EDA.ipynb\" target=\"_parent\"><img src=\"https://colab.research.google.com/assets/colab-badge.svg\" alt=\"Open In Colab\"/></a>"
      ]
    },
    {
      "cell_type": "code",
      "metadata": {
        "colab": {
          "base_uri": "https://localhost:8080/"
        },
        "id": "DatGMdQjYOgQ",
        "outputId": "45e94cc2-5f2b-4aff-95ad-f285915a6387"
      },
      "source": [
        "cd /content/drive/MyDrive/ML.now()/LiveCodeSessions/02_EDA"
      ],
      "execution_count": 1,
      "outputs": [
        {
          "output_type": "stream",
          "text": [
            "/content/drive/MyDrive/ML.now()/LiveCodeSessions/02_EDA\n"
          ],
          "name": "stdout"
        }
      ]
    },
    {
      "cell_type": "code",
      "metadata": {
        "colab": {
          "base_uri": "https://localhost:8080/"
        },
        "id": "TCJoSSQbYdET",
        "outputId": "73662ee7-cd30-46c5-fb02-5ff1fe3b5a91"
      },
      "source": [
        "cd /content/drive/MyDrive/ML.now()/LiveCodeSessions/02_EDA/student"
      ],
      "execution_count": 4,
      "outputs": [
        {
          "output_type": "stream",
          "text": [
            "/content/drive/MyDrive/ML.now()/LiveCodeSessions/02_EDA/student\n"
          ],
          "name": "stdout"
        }
      ]
    },
    {
      "cell_type": "code",
      "metadata": {
        "colab": {
          "base_uri": "https://localhost:8080/"
        },
        "id": "6rvjFd9qYj9S",
        "outputId": "83512d94-2232-48a7-b1f7-93cf6ac0040f"
      },
      "source": [
        "ls"
      ],
      "execution_count": 5,
      "outputs": [
        {
          "output_type": "stream",
          "text": [
            "student-mat.csv  student-merge.R  student-por.csv  student.txt\n"
          ],
          "name": "stdout"
        }
      ]
    },
    {
      "cell_type": "code",
      "metadata": {
        "id": "Cnu7t1WqYlLU"
      },
      "source": [
        "import os"
      ],
      "execution_count": 6,
      "outputs": []
    }
  ]
}